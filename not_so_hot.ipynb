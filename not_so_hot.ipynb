{
 "cells": [
  {
   "cell_type": "code",
   "execution_count": 8,
   "id": "cd1f2a02",
   "metadata": {},
   "outputs": [],
   "source": [
    "import pandas as pd\n",
    "import numpy as np"
   ]
  },
  {
   "cell_type": "code",
   "execution_count": 2,
   "id": "8968472f",
   "metadata": {},
   "outputs": [],
   "source": [
    "not_hot = pd.read_csv('top_10000_1960-now.csv')"
   ]
  },
  {
   "cell_type": "code",
   "execution_count": 3,
   "id": "a295a50e",
   "metadata": {},
   "outputs": [
    {
     "data": {
      "text/html": [
       "<div>\n",
       "<style scoped>\n",
       "    .dataframe tbody tr th:only-of-type {\n",
       "        vertical-align: middle;\n",
       "    }\n",
       "\n",
       "    .dataframe tbody tr th {\n",
       "        vertical-align: top;\n",
       "    }\n",
       "\n",
       "    .dataframe thead th {\n",
       "        text-align: right;\n",
       "    }\n",
       "</style>\n",
       "<table border=\"1\" class=\"dataframe\">\n",
       "  <thead>\n",
       "    <tr style=\"text-align: right;\">\n",
       "      <th></th>\n",
       "      <th>Track URI</th>\n",
       "      <th>Track Name</th>\n",
       "      <th>Artist URI(s)</th>\n",
       "      <th>Artist Name(s)</th>\n",
       "      <th>Album URI</th>\n",
       "      <th>Album Name</th>\n",
       "      <th>Album Artist URI(s)</th>\n",
       "      <th>Album Artist Name(s)</th>\n",
       "      <th>Album Release Date</th>\n",
       "      <th>Album Image URL</th>\n",
       "      <th>...</th>\n",
       "      <th>Speechiness</th>\n",
       "      <th>Acousticness</th>\n",
       "      <th>Instrumentalness</th>\n",
       "      <th>Liveness</th>\n",
       "      <th>Valence</th>\n",
       "      <th>Tempo</th>\n",
       "      <th>Time Signature</th>\n",
       "      <th>Album Genres</th>\n",
       "      <th>Label</th>\n",
       "      <th>Copyrights</th>\n",
       "    </tr>\n",
       "  </thead>\n",
       "  <tbody>\n",
       "    <tr>\n",
       "      <th>0</th>\n",
       "      <td>spotify:track:1XAZlnVtthcDZt2NI1Dtxo</td>\n",
       "      <td>Justified &amp; Ancient - Stand by the Jams</td>\n",
       "      <td>spotify:artist:6dYrdRlNZSKaVxYg5IrvCH</td>\n",
       "      <td>The KLF</td>\n",
       "      <td>spotify:album:4MC0ZjNtVP1nDD5lsLxFjc</td>\n",
       "      <td>Songs Collection</td>\n",
       "      <td>spotify:artist:6dYrdRlNZSKaVxYg5IrvCH</td>\n",
       "      <td>The KLF</td>\n",
       "      <td>1992-08-03</td>\n",
       "      <td>https://i.scdn.co/image/ab67616d0000b27355346b...</td>\n",
       "      <td>...</td>\n",
       "      <td>0.0480</td>\n",
       "      <td>0.0158</td>\n",
       "      <td>0.112000</td>\n",
       "      <td>0.4080</td>\n",
       "      <td>0.504</td>\n",
       "      <td>111.458</td>\n",
       "      <td>4.0</td>\n",
       "      <td>NaN</td>\n",
       "      <td>Jams Communications</td>\n",
       "      <td>C 1992 Copyright Control, P 1992 Jams Communic...</td>\n",
       "    </tr>\n",
       "    <tr>\n",
       "      <th>1</th>\n",
       "      <td>spotify:track:6a8GbQIlV8HBUW3c6Uk9PH</td>\n",
       "      <td>I Know You Want Me (Calle Ocho)</td>\n",
       "      <td>spotify:artist:0TnOYISbd1XYRBk9myaseg</td>\n",
       "      <td>Pitbull</td>\n",
       "      <td>spotify:album:5xLAcbvbSAlRtPXnKkggXA</td>\n",
       "      <td>Pitbull Starring In Rebelution</td>\n",
       "      <td>spotify:artist:0TnOYISbd1XYRBk9myaseg</td>\n",
       "      <td>Pitbull</td>\n",
       "      <td>2009-10-23</td>\n",
       "      <td>https://i.scdn.co/image/ab67616d0000b27326d73a...</td>\n",
       "      <td>...</td>\n",
       "      <td>0.1490</td>\n",
       "      <td>0.0142</td>\n",
       "      <td>0.000021</td>\n",
       "      <td>0.2370</td>\n",
       "      <td>0.800</td>\n",
       "      <td>127.045</td>\n",
       "      <td>4.0</td>\n",
       "      <td>NaN</td>\n",
       "      <td>Mr.305/Polo Grounds Music/J Records</td>\n",
       "      <td>P (P) 2009 RCA/JIVE Label Group, a unit of Son...</td>\n",
       "    </tr>\n",
       "    <tr>\n",
       "      <th>2</th>\n",
       "      <td>spotify:track:70XtWbcVZcpaOddJftMcVi</td>\n",
       "      <td>From the Bottom of My Broken Heart</td>\n",
       "      <td>spotify:artist:26dSoYclwsYLMAKD3tpOr4</td>\n",
       "      <td>Britney Spears</td>\n",
       "      <td>spotify:album:3WNxdumkSMGMJRhEgK80qx</td>\n",
       "      <td>...Baby One More Time (Digital Deluxe Version)</td>\n",
       "      <td>spotify:artist:26dSoYclwsYLMAKD3tpOr4</td>\n",
       "      <td>Britney Spears</td>\n",
       "      <td>1999-01-12</td>\n",
       "      <td>https://i.scdn.co/image/ab67616d0000b2738e4986...</td>\n",
       "      <td>...</td>\n",
       "      <td>0.0305</td>\n",
       "      <td>0.5600</td>\n",
       "      <td>0.000001</td>\n",
       "      <td>0.3380</td>\n",
       "      <td>0.706</td>\n",
       "      <td>74.981</td>\n",
       "      <td>4.0</td>\n",
       "      <td>NaN</td>\n",
       "      <td>Jive</td>\n",
       "      <td>P (P) 1999 Zomba Recording LLC</td>\n",
       "    </tr>\n",
       "    <tr>\n",
       "      <th>3</th>\n",
       "      <td>spotify:track:1NXUWyPJk5kO6DQJ5t7bDu</td>\n",
       "      <td>Apeman - 2014 Remastered Version</td>\n",
       "      <td>spotify:artist:1SQRv42e4PjEYfPhS0Tk9E</td>\n",
       "      <td>The Kinks</td>\n",
       "      <td>spotify:album:6lL6HugNEN4Vlc8sj0Zcse</td>\n",
       "      <td>Lola vs. Powerman and the Moneygoround, Pt. On...</td>\n",
       "      <td>spotify:artist:1SQRv42e4PjEYfPhS0Tk9E</td>\n",
       "      <td>The Kinks</td>\n",
       "      <td>2014-10-20</td>\n",
       "      <td>https://i.scdn.co/image/ab67616d0000b2731e7c53...</td>\n",
       "      <td>...</td>\n",
       "      <td>0.2590</td>\n",
       "      <td>0.5680</td>\n",
       "      <td>0.000051</td>\n",
       "      <td>0.0384</td>\n",
       "      <td>0.833</td>\n",
       "      <td>75.311</td>\n",
       "      <td>4.0</td>\n",
       "      <td>NaN</td>\n",
       "      <td>Sanctuary Records</td>\n",
       "      <td>C © 2014 Sanctuary Records Group Ltd., a BMG C...</td>\n",
       "    </tr>\n",
       "    <tr>\n",
       "      <th>4</th>\n",
       "      <td>spotify:track:72WZtWs6V7uu3aMgMmEkYe</td>\n",
       "      <td>You Can't Always Get What You Want</td>\n",
       "      <td>spotify:artist:22bE4uQ6baNwSHPVcDxLCe</td>\n",
       "      <td>The Rolling Stones</td>\n",
       "      <td>spotify:album:0c78nsgqX6VfniSNWIxwoD</td>\n",
       "      <td>Let It Bleed</td>\n",
       "      <td>spotify:artist:22bE4uQ6baNwSHPVcDxLCe</td>\n",
       "      <td>The Rolling Stones</td>\n",
       "      <td>1969-12-05</td>\n",
       "      <td>https://i.scdn.co/image/ab67616d0000b27373d927...</td>\n",
       "      <td>...</td>\n",
       "      <td>0.0687</td>\n",
       "      <td>0.6750</td>\n",
       "      <td>0.000073</td>\n",
       "      <td>0.2890</td>\n",
       "      <td>0.497</td>\n",
       "      <td>85.818</td>\n",
       "      <td>4.0</td>\n",
       "      <td>NaN</td>\n",
       "      <td>Universal Music Group</td>\n",
       "      <td>C © 2002 ABKCO Music &amp; Records Inc., P ℗ 2002 ...</td>\n",
       "    </tr>\n",
       "  </tbody>\n",
       "</table>\n",
       "<p>5 rows × 35 columns</p>\n",
       "</div>"
      ],
      "text/plain": [
       "                              Track URI  \\\n",
       "0  spotify:track:1XAZlnVtthcDZt2NI1Dtxo   \n",
       "1  spotify:track:6a8GbQIlV8HBUW3c6Uk9PH   \n",
       "2  spotify:track:70XtWbcVZcpaOddJftMcVi   \n",
       "3  spotify:track:1NXUWyPJk5kO6DQJ5t7bDu   \n",
       "4  spotify:track:72WZtWs6V7uu3aMgMmEkYe   \n",
       "\n",
       "                                Track Name  \\\n",
       "0  Justified & Ancient - Stand by the Jams   \n",
       "1          I Know You Want Me (Calle Ocho)   \n",
       "2       From the Bottom of My Broken Heart   \n",
       "3         Apeman - 2014 Remastered Version   \n",
       "4       You Can't Always Get What You Want   \n",
       "\n",
       "                           Artist URI(s)      Artist Name(s)  \\\n",
       "0  spotify:artist:6dYrdRlNZSKaVxYg5IrvCH             The KLF   \n",
       "1  spotify:artist:0TnOYISbd1XYRBk9myaseg             Pitbull   \n",
       "2  spotify:artist:26dSoYclwsYLMAKD3tpOr4      Britney Spears   \n",
       "3  spotify:artist:1SQRv42e4PjEYfPhS0Tk9E           The Kinks   \n",
       "4  spotify:artist:22bE4uQ6baNwSHPVcDxLCe  The Rolling Stones   \n",
       "\n",
       "                              Album URI  \\\n",
       "0  spotify:album:4MC0ZjNtVP1nDD5lsLxFjc   \n",
       "1  spotify:album:5xLAcbvbSAlRtPXnKkggXA   \n",
       "2  spotify:album:3WNxdumkSMGMJRhEgK80qx   \n",
       "3  spotify:album:6lL6HugNEN4Vlc8sj0Zcse   \n",
       "4  spotify:album:0c78nsgqX6VfniSNWIxwoD   \n",
       "\n",
       "                                          Album Name  \\\n",
       "0                                   Songs Collection   \n",
       "1                     Pitbull Starring In Rebelution   \n",
       "2     ...Baby One More Time (Digital Deluxe Version)   \n",
       "3  Lola vs. Powerman and the Moneygoround, Pt. On...   \n",
       "4                                       Let It Bleed   \n",
       "\n",
       "                     Album Artist URI(s) Album Artist Name(s)  \\\n",
       "0  spotify:artist:6dYrdRlNZSKaVxYg5IrvCH              The KLF   \n",
       "1  spotify:artist:0TnOYISbd1XYRBk9myaseg              Pitbull   \n",
       "2  spotify:artist:26dSoYclwsYLMAKD3tpOr4       Britney Spears   \n",
       "3  spotify:artist:1SQRv42e4PjEYfPhS0Tk9E            The Kinks   \n",
       "4  spotify:artist:22bE4uQ6baNwSHPVcDxLCe   The Rolling Stones   \n",
       "\n",
       "  Album Release Date                                    Album Image URL  ...  \\\n",
       "0         1992-08-03  https://i.scdn.co/image/ab67616d0000b27355346b...  ...   \n",
       "1         2009-10-23  https://i.scdn.co/image/ab67616d0000b27326d73a...  ...   \n",
       "2         1999-01-12  https://i.scdn.co/image/ab67616d0000b2738e4986...  ...   \n",
       "3         2014-10-20  https://i.scdn.co/image/ab67616d0000b2731e7c53...  ...   \n",
       "4         1969-12-05  https://i.scdn.co/image/ab67616d0000b27373d927...  ...   \n",
       "\n",
       "   Speechiness  Acousticness  Instrumentalness Liveness  Valence    Tempo  \\\n",
       "0       0.0480        0.0158          0.112000   0.4080    0.504  111.458   \n",
       "1       0.1490        0.0142          0.000021   0.2370    0.800  127.045   \n",
       "2       0.0305        0.5600          0.000001   0.3380    0.706   74.981   \n",
       "3       0.2590        0.5680          0.000051   0.0384    0.833   75.311   \n",
       "4       0.0687        0.6750          0.000073   0.2890    0.497   85.818   \n",
       "\n",
       "  Time Signature Album Genres                                Label  \\\n",
       "0            4.0          NaN                  Jams Communications   \n",
       "1            4.0          NaN  Mr.305/Polo Grounds Music/J Records   \n",
       "2            4.0          NaN                                 Jive   \n",
       "3            4.0          NaN                    Sanctuary Records   \n",
       "4            4.0          NaN                Universal Music Group   \n",
       "\n",
       "                                          Copyrights  \n",
       "0  C 1992 Copyright Control, P 1992 Jams Communic...  \n",
       "1  P (P) 2009 RCA/JIVE Label Group, a unit of Son...  \n",
       "2                     P (P) 1999 Zomba Recording LLC  \n",
       "3  C © 2014 Sanctuary Records Group Ltd., a BMG C...  \n",
       "4  C © 2002 ABKCO Music & Records Inc., P ℗ 2002 ...  \n",
       "\n",
       "[5 rows x 35 columns]"
      ]
     },
     "execution_count": 3,
     "metadata": {},
     "output_type": "execute_result"
    }
   ],
   "source": [
    "not_hot.head()"
   ]
  },
  {
   "cell_type": "code",
   "execution_count": 4,
   "id": "31057923",
   "metadata": {},
   "outputs": [],
   "source": [
    "df_column = ['Track Name', 'Album Artist Name(s)']\n",
    "df = not_hot[df_column].copy()"
   ]
  },
  {
   "cell_type": "code",
   "execution_count": 5,
   "id": "60127ef5",
   "metadata": {},
   "outputs": [],
   "source": [
    "df = df.rename(columns = {'Track Name': 'title', 'Album Artist Name(s)': 'artist'})"
   ]
  },
  {
   "cell_type": "code",
   "execution_count": 8,
   "id": "28915e32",
   "metadata": {
    "scrolled": true
   },
   "outputs": [
    {
     "data": {
      "text/html": [
       "<div>\n",
       "<style scoped>\n",
       "    .dataframe tbody tr th:only-of-type {\n",
       "        vertical-align: middle;\n",
       "    }\n",
       "\n",
       "    .dataframe tbody tr th {\n",
       "        vertical-align: top;\n",
       "    }\n",
       "\n",
       "    .dataframe thead th {\n",
       "        text-align: right;\n",
       "    }\n",
       "</style>\n",
       "<table border=\"1\" class=\"dataframe\">\n",
       "  <thead>\n",
       "    <tr style=\"text-align: right;\">\n",
       "      <th></th>\n",
       "      <th>title</th>\n",
       "      <th>artist</th>\n",
       "    </tr>\n",
       "  </thead>\n",
       "  <tbody>\n",
       "    <tr>\n",
       "      <th>0</th>\n",
       "      <td>Justified &amp; Ancient - Stand by the Jams</td>\n",
       "      <td>The KLF</td>\n",
       "    </tr>\n",
       "    <tr>\n",
       "      <th>1</th>\n",
       "      <td>I Know You Want Me (Calle Ocho)</td>\n",
       "      <td>Pitbull</td>\n",
       "    </tr>\n",
       "    <tr>\n",
       "      <th>2</th>\n",
       "      <td>From the Bottom of My Broken Heart</td>\n",
       "      <td>Britney Spears</td>\n",
       "    </tr>\n",
       "    <tr>\n",
       "      <th>3</th>\n",
       "      <td>Apeman - 2014 Remastered Version</td>\n",
       "      <td>The Kinks</td>\n",
       "    </tr>\n",
       "    <tr>\n",
       "      <th>4</th>\n",
       "      <td>You Can't Always Get What You Want</td>\n",
       "      <td>The Rolling Stones</td>\n",
       "    </tr>\n",
       "  </tbody>\n",
       "</table>\n",
       "</div>"
      ],
      "text/plain": [
       "                                     title              artist\n",
       "0  Justified & Ancient - Stand by the Jams             The KLF\n",
       "1          I Know You Want Me (Calle Ocho)             Pitbull\n",
       "2       From the Bottom of My Broken Heart      Britney Spears\n",
       "3         Apeman - 2014 Remastered Version           The Kinks\n",
       "4       You Can't Always Get What You Want  The Rolling Stones"
      ]
     },
     "execution_count": 8,
     "metadata": {},
     "output_type": "execute_result"
    }
   ],
   "source": [
    "df.head()"
   ]
  },
  {
   "cell_type": "code",
   "execution_count": 9,
   "id": "85420926",
   "metadata": {},
   "outputs": [],
   "source": [
    "hot_songs = pd.read_csv('~/Desktop/data_analytics/Week_6/Day_1/Morning/lab-web-scraping-single-page/hot_songs.csv')"
   ]
  },
  {
   "cell_type": "code",
   "execution_count": 12,
   "id": "f735e435",
   "metadata": {},
   "outputs": [],
   "source": [
    "hot_songs.drop(columns = 'Unnamed: 0', inplace = True)"
   ]
  },
  {
   "cell_type": "code",
   "execution_count": 13,
   "id": "6d2934a1",
   "metadata": {},
   "outputs": [],
   "source": [
    "hot_songs.columns = hot_songs.columns.str.lower()"
   ]
  },
  {
   "cell_type": "code",
   "execution_count": 14,
   "id": "a61af24e",
   "metadata": {},
   "outputs": [
    {
     "name": "stdout",
     "output_type": "stream",
     "text": [
      "Matching rows found:\n",
      "            title         artist\n",
      "0  Last Christmas          Wham!\n",
      "1      Last Night  Morgan Wallen\n",
      "2      Last Night  Morgan Wallen\n",
      "3        Fast Car     Luke Combs\n"
     ]
    }
   ],
   "source": [
    "merged_df = pd.merge(hot_songs, df, on = ['artist', 'title'], how = 'inner')\n",
    "\n",
    "if not merged_df.empty:\n",
    "    print(\"Matching rows found:\")\n",
    "    print(merged_df)\n",
    "else:\n",
    "    print(\"No matching rows found.\")"
   ]
  },
  {
   "cell_type": "code",
   "execution_count": 15,
   "id": "34f90878",
   "metadata": {},
   "outputs": [],
   "source": [
    "df = df[(df['title'] != 'Last Christmas') & (df['artist'] != 'Wham!')]"
   ]
  },
  {
   "cell_type": "code",
   "execution_count": 16,
   "id": "fbc47baa",
   "metadata": {},
   "outputs": [],
   "source": [
    "df = df[(df['title'] != 'Last Night') & (df['artist'] != 'Morgan Wallen')]"
   ]
  },
  {
   "cell_type": "code",
   "execution_count": 17,
   "id": "1ca44197",
   "metadata": {},
   "outputs": [],
   "source": [
    "df = df[(df['title'] != 'Fast Car') & (df['artist'] != 'Luke Combs')]"
   ]
  },
  {
   "cell_type": "code",
   "execution_count": 18,
   "id": "adaa5a73",
   "metadata": {},
   "outputs": [],
   "source": [
    "df.to_csv('not_so_hot.csv')"
   ]
  },
  {
   "cell_type": "code",
   "execution_count": 19,
   "id": "962ad03a",
   "metadata": {},
   "outputs": [],
   "source": [
    "hot_songs.to_csv('hot_songs_updated.csv')"
   ]
  },
  {
   "cell_type": "code",
   "execution_count": null,
   "id": "8b6eabbc",
   "metadata": {},
   "outputs": [],
   "source": [
    "# below is the one we are actually using right now, the above was my personal testing with another data"
   ]
  },
  {
   "cell_type": "code",
   "execution_count": 10,
   "id": "c8577c7c",
   "metadata": {},
   "outputs": [],
   "source": [
    "import requests \n",
    "from bs4 import BeautifulSoup \n",
    "import re\n",
    "import requests"
   ]
  },
  {
   "cell_type": "code",
   "execution_count": 11,
   "id": "f81deba5",
   "metadata": {},
   "outputs": [
    {
     "data": {
      "text/plain": [
       "['https://www.acclaimedmusic.net/070731/1948-02s.htm',\n",
       " 'https://www.acclaimedmusic.net/070731/1948-02s2.htm',\n",
       " 'https://www.acclaimedmusic.net/070731/1948-02s3.htm',\n",
       " 'https://www.acclaimedmusic.net/070731/1948-02s4.htm',\n",
       " 'https://www.acclaimedmusic.net/070731/1948-02s5.htm',\n",
       " 'https://www.acclaimedmusic.net/070731/1948-02s6.htm',\n",
       " 'https://www.acclaimedmusic.net/070731/1948-02s7.htm',\n",
       " 'https://www.acclaimedmusic.net/070731/1948-02s8.htm',\n",
       " 'https://www.acclaimedmusic.net/070731/1948-02s9.htm',\n",
       " 'https://www.acclaimedmusic.net/070731/1948-02s10.htm',\n",
       " 'https://www.acclaimedmusic.net/070731/1948-02s11.htm',\n",
       " 'https://www.acclaimedmusic.net/070731/1948-02s12.htm',\n",
       " 'https://www.acclaimedmusic.net/070731/1948-02s13.htm',\n",
       " 'https://www.acclaimedmusic.net/070731/1948-02s14.htm',\n",
       " 'https://www.acclaimedmusic.net/070731/1948-02s15.htm']"
      ]
     },
     "execution_count": 11,
     "metadata": {},
     "output_type": "execute_result"
    }
   ],
   "source": [
    "url_list =[\"https://www.acclaimedmusic.net/070731/1948-02s.htm\",\"https://www.acclaimedmusic.net/070731/1948-02s2.htm\",\"https://www.acclaimedmusic.net/070731/1948-02s3.htm\",\"https://www.acclaimedmusic.net/070731/1948-02s4.htm\",\"https://www.acclaimedmusic.net/070731/1948-02s5.htm\",\"https://www.acclaimedmusic.net/070731/1948-02s6.htm\",\"https://www.acclaimedmusic.net/070731/1948-02s7.htm\",\"https://www.acclaimedmusic.net/070731/1948-02s8.htm\",\"https://www.acclaimedmusic.net/070731/1948-02s9.htm\",\"https://www.acclaimedmusic.net/070731/1948-02s10.htm\",\"https://www.acclaimedmusic.net/070731/1948-02s11.htm\",\"https://www.acclaimedmusic.net/070731/1948-02s12.htm\",\"https://www.acclaimedmusic.net/070731/1948-02s13.htm\",\"https://www.acclaimedmusic.net/070731/1948-02s14.htm\",\"https://www.acclaimedmusic.net/070731/1948-02s15.htm\"]\n",
    "url_list"
   ]
  },
  {
   "cell_type": "code",
   "execution_count": 12,
   "id": "6e9d7b57",
   "metadata": {},
   "outputs": [
    {
     "name": "stdout",
     "output_type": "stream",
     "text": [
      "['Bob Dylan', 'The Rolling Stones', 'The Beach Boys', 'Nirvana', 'Aretha Franklin', 'Chuck Berry', 'Otis Redding', 'Marvin Gaye', 'Led Zeppelin', 'Sex Pistols', 'The Kingsmen', 'The Ronettes', 'The Who', 'Grandmaster Flash and The Furious Five', 'Elvis Presley', 'The Beatles', 'The Kinks', 'The Beatles', 'Joy Division', 'Marvin Gaye', 'The Beatles', 'Ike and Tina Turner', 'Sex Pistols', 'The Righteous Brothers', 'Bruce Springsteen', 'John Lennon', 'Ray Charles', 'Little Richard', 'Michael Jackson', 'The Jackson 5', 'The Byrds', 'Gnarls Barkley', 'The Doors', 'The Rolling Stones', 'The Clash', 'The Four Tops', 'The Beatles', 'Stevie Wonder', 'Smokey Robinson and The Miracles', 'The Rolling Stones', 'The Jimi Hendrix Experience', 'OutKast', 'The Crickets', 'R.E.M.', 'Bill Haley and His Comets', 'Prince and The Revolution', 'The Eagles', 'Derek and The Dominos', 'The Verve', 'The Police', 'Pulp', 'The Beach Boys', 'Martha and The Vandellas', 'New Order', 'The Kinks', 'Creedence Clearwater Revival', 'Elvis Presley', 'Lou Reed', 'Missy Misdemeanor Elliott', 'Beck', 'David Bowie', 'The Animals', 'Al Green', 'Jerry Lee Lewis', 'Massive', 'Elvis Presley', 'Ben E. King', 'Queen', 'Simon and Garfunkel', 'Franz Ferdinand', 'Oasis', 'Elvis Presley', 'Percy Sledge', 'Bob Marley and The Wailers', 'Carl Perkins', 'Led Zeppelin', 'Del Shannon', 'Chuck Berry', 'Eddie Cochran', 'Chic', 'The Jimi Hendrix Experience', 'James Brown', 'Run-D.M.C.', 'Public Enemy', 'Elvis Presley', 'Beyoncé', \"Booker T. & The MG's\", 'Prince and The Revolution', 'Wilson Pickett', \"Guns N' Roses\", 'Sam Cooke', 'Elvis Presley', 'Johnny Cash', 'U2', 'The Specials', 'The Bee Gees', 'The Mamas and the Papas', 'The Shirelles', 'The Beatles', \"Sinéad O'Connor\", 'Van Morrison', 'Buffalo Springfield', 'Rod Stewart', 'Buddy Holly', 'The Smiths', 'The Temptations', 'Oasis', 'David Bowie', 'Dionne Warwick', 'T. Rex', 'Billie Holiday', 'Underworld', 'Roy Orbison', 'The Beatles', 'Creedence Clearwater Revival', 'Them', 'ABBA', 'Hank Williams', 'Blur', 'Procol Harum', 'The Who', 'The Rolling Stones', 'The Byrds', 'Jerry Lee Lewis', 'Gene Vincent and His Blue Caps', 'Sly and the Family Stone', 'The Rolling Stones', 'The Temptations', 'Talking Heads', 'Prince', 'Dr. Dre Feat. Snoop Doggy Dogg', 'The Beatles', 'Marvin Gaye', 'Radiohead', 'Johnny Cash', 'Fatboy Slim', 'Bob Dylan', 'The Impressions', 'Roy Orbison', 'Prince and The Revolution', 'James Brown', 'The Beach Boys', 'The Supremes', 'The Everly Brothers', 'Donna Summer', 'Patsy Cline', 'The Clash', 'Soft Cell', 'Missy Misdemeanor Elliott', 'Ramones', 'Big Joe Turner', 'Ritchie Valens', 'David Bowie', 'Roxy Music', 'The Velvet Underground', 'The Beatles', 'Van Halen', 'The Rolling Stones', 'The White Stripes', 'The Beatles', 'The Teenagers Feat. Frankie Lymon', 'The Sugarhill Gang', 'Woody Guthrie', 'The Stone Roses', 'David Bowie', 'Jimmy Cliff', 'The Prodigy', 'Michael Jackson', 'The Crystals', 'Eminem', 'The Everly Brothers', 'The Breeders', 'Kylie Minogue', 'Bruce Springsteen', 'The Troggs', 'Public Enemy', 'Bo Diddley', 'Kanye West', 'Glen Campbell', 'Madonna', 'The Smiths', 'Amerie', 'Black Sabbath', 'The Human League', 'Deee-Lite', 'The Velvet Underground', 'The Beatles', 'Desmond Dekker', 'Sam Cooke', 'Bruce Springsteen', \"The Lovin' Spoonful\", 'The Band', 'OutKast', 'The Smiths', 'Kraftwerk', 'Spencer Davis Group', 'The Rolling Stones', 'Blondie', 'Dusty Springfield', 'Mott the Hoople', 'Frankie Goes to Hollywood', 'The Who', 'Elvis Presley', 'Steppenwolf', 'Aretha Franklin', 'Blur', 'The Buzzcocks', 'Question Mark and the Mysterians', 'Chubby Checker', 'The Rapture', 'The Supremes', 'TLC', 'Fats Domino', 'Gladys Knight and The Pips', 'Jefferson Airplane', 'The Jimi Hendrix Experience', 'Violent Femmes', 'Simon and Garfunkel', 'Love', 'Beastie Boys', 'Motörhead', 'Eminem Feat. Dido', 'U2', 'Britney Spears', 'Beastie Boys', 'Robert Johnson', 'Pretenders', 'Little Richard', 'Johnny Cash', 'The Isley Brothers', 'James Brown', 'Sonic Youth', 'The Flamingos', 'Madonna', 'Fleetwood Mac', 'Pixies', 'Talking Heads', 'James Brown', 'Jimi Hendrix', 'Muddy Waters', 'Otis Redding', 'Isaac Hayes', 'The Beatles', 'Stardust', 'Little Richard', 'R.E.M.', 'Jonathan Richman & The Modern Lovers', 'Metallica', 'The Five Satins', 'Grandmaster Flash and The Furious Five', 'Sly and the Family Stone', 'Afrika Bambaataa & The Soul Sonic Force', 'Beastie Boys', \"The LA's\", 'Blue Oyster Cult', 'The Beach Boys', 'Pink Floyd', 'The Undertones', 'Lynyrd Skynyrd', 'The Everly Brothers', 'James Taylor', 'The Coasters', 'Ann Peebles', 'Jackie Wilson', 'Marvin Gaye', 'Hank Williams', 'LCD Soundsystem', 'Justin Timberlake', 'The Drifters', 'Madonna', 'John Lennon', 'Bob Dylan', 'Ramones', 'Sex Pistols', 'TLC', 'Red Hot Chili Peppers', 'Link Wray', 'Don McLean', 'Serge Gainsbourg & Jane Birkin', 'Tammy Wynette', 'Madonna', 'Muddy Waters', 'The Beatles', 'Nirvana', 'The Wailers', 'Bob Dylan', 'The White Stripes', 'Aretha Franklin', 'Jackie Brenston', 'Sly and the Family Stone', \"The B-52's\", 'Eurythmics', 'The Stooges', 'Elton John', 'Roy Orbison', 'Don Henley', 'Grandmaster Flash and Melle Mel', 'Edwin Starr', \"The Shangri-La's\", 'The Box Tops', 'Joan Jett and The Blackhearts', 'U2', 'Cornershop', 'The Chemical Brothers', 'Prince and The Revolution', 'Pixies', 'The Jam', 'The Crystals', 'M/A/R/R/S', \"Screamin' Jay Hawkins\", 'The Beatles', 'U2', 'Stevie Wonder', 'Smokey Robinson and The Miracles', 'Boston', 'Creedence Clearwater Revival', 'Bo Diddley', 'Pearl Jam', 'OutKast', 'Television', 'Dion', 'Ray Charles', 'Lauryn Hill', 'James Brown and The Famous Flames', 'Aerosmith', 'Michael Jackson', 'N.W.A.', 'John Lee Hooker', 'The Platters', 'The Police', 'Dinosaur Jr.', 'T.I.', 'Kelly Clarkson', 'Carole King', 'Chic', 'Sam and Dave', 'Radiohead', 'The Temptations', 'Radiohead', 'Coldplay', 'R.E.M.', 'Thelonious Monk', 'Louis Armstrong', 'Elvis Costello', 'Sly and the Family Stone', 'Eminem', 'Iggy Pop', 'Bill Monroe', 'The Beatles', 'Al Green', 'The Beatles', 'Happy Mondays', 'Patti Smith', 'The Penguins', 'The Beatles', 'Aphex Twin', 'Rob Base & DJ E-Z Rock', 'The Hives', 'Kelis', 'Little Eva', 'MC5', 'Magazine', 'Gorillaz', 'Soundgarden', 'Janis Joplin', 'Cameo', \"Howlin' Wolf\", 'The Beatles', 'Gloria Gaynor', 'Cliff Richard', 'Lloyd Price', 'Arrested Development', 'Tracy Chapman', 'P J Harvey', 'The Who', 'Big Star', 'The Cure', 'Bon Jovi', 'B.B. King', 'Judy Garland', 'The Monkees', 'Public Image Ltd.', 'Jay-Z', 'Alice Cooper', 'Led Zeppelin', 'AC/DC', 'Patti Smith Group', '50 Cent', 'David Bowie', 'Public Enemy', 'Wilbert Harrison', 'Led Zeppelin', 'Fairport Convention', '\"Tennessee\" Ernie Ford', 'The Clash', 'U2', 'Madonna', 'Neil Young', 'Primal Scream', 'Toots and The Maytals', 'Funkadelic', 'Alanis Morissette', 'The Beatles', 'Primal Scream', 'Bing Crosby', 'The Jam', 'Beck', 'Naughty by Nature', 'The Smashing Pumpkins', 'Bobby Darin', 'Britney Spears', 'The Raconteurs', 'Iggy and The Stooges', 'Cyndi Lauper', 'Patsy Cline', 'Pavement', 'Mary Wells', 'Freda Payne', 'Lynyrd Skynyrd', 'The Everly Brothers', 'The Supremes', 'Gary Numan', 'The Beatles', 'Eric B. & Rakim', 'Stevie Wonder', 'Hank Williams', 'Jimmy Cliff', 'The Velvet Underground', 'The Rolling Stones', 'Jimmie Rodgers', 'Duke Ellington', 'Billie Holiday', 'Bobbie Gentry', 'Kate Bush', 'Bob Dylan', 'Dire Straits', 'Pavement', 'Steely Dan', 'The Sugarcubes', 'Harold Melvin and The Bluenotes', 'Prince and The Revolution', 'ABC', 'Sam the Sham and The Pharaos', 'Creedence Clearwater Revival', 'Pet Shop Boys', 'Laurie Anderson', 'Leadbelly', 'Coolio Feat. L.V.', 'Aerosmith', 'The Wailers', 'Peter Bjorn and John', '10 CC', 'Otis Redding', 'Gorillaz', 'The Kinks', 'Portishead', 'The Clash', 'Cream', 'The Shadows', 'Tina Turner', 'Thin Lizzy', 'Jefferson Airplane', 'Ramones', \"The Go-Go's\", 'Neneh Cherry', 'Neil Young', 'Bob Dylan', 'U2', 'Garth Brooks', 'David Bowie', 'The Clash', 'Aretha Franklin', 'Led Zeppelin', 'Gene Chandler', 'John Coltrane', 'New Radicals', 'The Marvelettes', 'Van Morrison', 'Jackie Wilson', 'Johnny Cash', 'The Beatles', 'Etta James', 'The Doors', 'Steve Harley & Cockney Rebel', 'M.I.A.', 'House of Pain', 'Chuck Berry', 'The Sparks', 'Madonna', 'Bob Seger', 'Arctic Monkeys', 'Madonna', 'Roxy Music', 'Red Hot Chili Peppers', 'Blackstreet Feat. Dr. Dre', 'Augustus Pablo', 'Nirvana', 'Pink Floyd', \"Salt 'n' Pepa\", 'The Rolling Stones', 'TV on the Radio', 'The Beach Boys', 'Fatboy Slim', \"Guns N' Roses\", \"The O'Jays\", 'The Rolling Stones', 'Franz Ferdinand', 'Deep Purple', 'George Jones', 'The Jam', 'Free', 'LL Cool J', 'Culture Club', 'My Bloody Valentine', 'The Cure', 'Cyndi Lauper', 'Buddy Holly', 'Devo', 'Louis Armstrong', 'Electric Six', 'Crosby, Stills, Nash & Young', 'Elvis Costello', 'The Miracles', 'Yeah Yeah Yeahs', 'The Damned', 'The Strokes', 'Hanson', 'Kraftwerk', 'Elton John', 'Carly Simon', 'Crowded House', 'The Pogues and Kirsty MacColl', 'The Specials', 'AC/DC', 'The Beatles', 'Simon and Garfunkel', 'Soul II Soul', 'Stan Getz and Astrud Gilberto', 'Jackie Wilson', 'The Jesus and Mary Chain', 'The Walker Brothers', \"The O'Jays\", 'U2', 'Blur', 'Pretenders', 'New Order', 'Pixies', 'Henry Mancini', 'Junior Murvin', 'Sister Sledge', 'Richard Hell & The Voidoids', 'Bobby Fuller Four', 'Roberta Flack', 'David Bowie', 'The Clash', 'Loretta Lynn', 'The Beatles', 'Elmore James', 'The Doors', 'The Rolling Stones', 'Sex Pistols', 'Nilsson', 'Kate Bush', 'The Beatles', 'New York Dolls', 'R.E.M.', 'The Left Banke', 'Geto Boys', 'Robert Wyatt', 'The Chemical Brothers', 'Marvin Gaye & Tammi Terrell', 'Cheap Trick', 'The Searchers', 'Public Enemy', 'Sam Cooke', 'Oasis', 'New Order', 'The Young Rascals', 'Santana Feat. Rob Thomas', 'Willie Mae \"Big Mama\" Thornton', 'Roy Orbison', 'The Easybeats', 'Ben E. King', 'T. Rex', 'The Chiffons', 'Suzanne Vega', 'The Rolling Stones', 'Muddy Waters', 'Rick James', 'Tom Tom Club', 'The Special A.K.A.', 'Foreigner', 'Sheryl Crow', 'Run-D.M.C.', 'Pet Shop Boys', 'The Zombies', 'T. Rex', 'Eric B. & Rakim', 'The Jesus and Mary Chain', 'Fats Domino', 'Usher Feat. Ludacris', 'Backstreet Boys', 'Les Paul & Mary Ford', 'George Michael', 'T. Rex', \"The Lovin' Spoonful\", 'Yoko Ono', 'Depeche Mode', 'Aretha Franklin', 'Al Green', 'Kurtis Blow', 'Bob Dylan', 'James Carr', 'Hot Chip', 'Aaliyah', 'Nelly', 'Ray Charles', 'The Jimi Hendrix Experience', 'Faith No More', 'Nelly Furtado', 'Roger Miller', 'De La Soul', 'Pink Floyd', 'Bill Doggett', 'The Game Feat. 50 Cent', 'Blondie', 'Daft Punk', 'R.E.M.', 'Duran Duran', 'Elastica', 'Nine Inch Nails', 'The Rolling Stones', 'Tom Petty', 'Ray Charles', \"Dexy's Midnight Runners\", 'The Avalanches', 'George Harrison', 'Stevie Wonder', 'Elvis Presley', 'Elvis Costello', 'Eminem', 'Veruca Salt', 'Bessie Smith', 'The Jam', 'The Young Rascals', 'Dolly Parton', 'The Crickets', 'The Orioles', 'Chaka Khan', 'Simon and Garfunkel', 'Grateful Dead', 'Joy Division', 'Glenn Miller', 'Grateful Dead', 'Martha and The Vandellas', 'Curtis Mayfield', 'Neil Young with Crazy Horse', 'U2', 'Soul II Soul', 'Queens of the Stone Age', 'Rythim Is Rythim', 'George Jones', 'Warren G', 'Miles Davis', 'The Jam', 'New Order', 'The Rolling Stones', 'Madness', 'Aretha Franklin', 'The Drifters', 'Air', 'Todd Rundgren', 'Leonard Cohen', 'The Small Faces', 'Supergrass', 'Black Sabbath', 'Weezer', 'Patti Labelle', 'George McCrae', \"The B-52's\", 'Damian Marley', 'Funky Four Plus One', 'AC/DC', 'Morrissey', 'Gwen Stefani', 'The Beach Boys', 'Digital Underground', 'Manic Street Preachers', 'The Who', 'Randy Newman', 'Duke Ellington', 'The Byrds', 'Gene Autry', 'The Flaming Lips', 'Method Man Feat. Mary J. Blige', 'Modest Mouse', \"Jane's Addiction\", 'The Staple Singers', 'Bauhaus', 'Bob Dylan', 'N.W.A.', 'Pink Floyd', 'Ray Price', 'Madonna', 'Snoop Dogg Feat. Pharrell', 'The Tornados', 'Fugazi', 'Donna Summer', 'Madonna', 'Tricky', 'Big Brother and The Holding Company', 'Grace Jones', 'Pixies', 'Doug E. Fresh', 'Bob Dylan', 'Ice Cube', 'The Band', 'The Supremes', 'Kate Smith', 'Nirvana', 'Lonnie Donegan', 'Junior Senior', 'Bo Diddley', 'Benny Goodman', 'Sam and Dave', 'The Velvet Underground', 'Lipps Inc.', '13th Floor Elevators', 'Kraftwerk', 'Dave Brubeck', 'ABBA', 'Smashing Pumpkins', 'The Velvet Underground', 'John Lennon', '808 State', 'The Monkees', 'Morrissey', 'R. Kelly', 'Goldie Presents Metalheadz', 'The Chords', 'The Killers', 'Madonna', 'U2', 'Orbital', 'Santana', 'Little Willie John', 'Stevie Wonder', 'Dion and The Belmonts', 'The Clash', 'The Platters', 'Busta Rhymes', 'Blur', 'En Vogue', 'Elvis Costello', 'The Stone Roses', 'Blur', 'Christina Aguilera', 'Frankie Goes to Hollywood', 'Björk', 'Sly and the Family Stone', 'Robert Wyatt', 'Siouxsie and The Banshees', 'Happy Mondays', 'Edwyn Collins', 'Marty Robbins', '2Pac Feat. Dr. Dre', 'Nick Cave & The Bad Seeds', 'Charlie Parker', 'Slade', 'Rage Against the Machine', 'Bob Dylan', 'Creedence Clearwater Revival', 'Muddy Waters', 'John Lee Hooker', 'Joe Cocker', 'Justin Timberlake', 'Bruce Springsteen', 'Van Morrison', 'George Gershwin', \"The Shangri-La's\", 'Peggy Lee', 'Fugees', 'The Velvet Underground', 'The Rolling Stones', 'The Only Ones', \"Dexy's Midnight Runners\", 'David Bowie', 'Ritchie Valens', 'P J Harvey', '!!!', 'Ketty Lester', 'My Bloody Valentine', 'The Righteous Brothers', 'The Police', 'The Smiths', 'The Ventures', 'Marvin Gaye', 'Joy Division', 'Kiss', 'Daft Punk', 'The Roots Feat. Cody Chesnutt', 'Barrett Strong', 'Snoop Doggy Dogg', 'Glen Campbell', 'They Might Be Giants', 'Sonny and Cher', 'Sufjan Stevens', 'Justin Timberlake', 'Joni Mitchell', 'Fine Young Cannibals', 'Bob Marley and The Wailers', 'Radiohead', 'Elvis Costello', 'The Animals', 'Joe Jackson', 'Hank Williams', 'Kim Carnes', 'The Supremes', 'Dion and The Belmonts', 'The Cars', 'The Beatles', 'Elvis Presley', 'The Killers', 'Radiohead', 'Echo and the Bunnymen', 'Basement Jaxx', 'Nilsson', 'The Four Tops', 'The Knack', 'X-Ray Spex', 'The Notorious B.I.G.', 'Donna Summer', 'AC/DC', 'Antony and The Johnsons', 'Wings', 'Fischerspooner', 'The Libertines', 'Ray Charles', 'Talking Heads', 'Elvis Presley', 'Nirvana', 'Brenda Lee', 'Robert Johnson', 'PM Dawn', 'LCD Soundsystem', 'The Carter Family', 'Petula Clark', 'CSS', 'Daft Punk', 'The Notorious B.I.G.', 'Ian Dury and The Blockheads', 'Devo', 'Edith Piaf', 'Chuck Berry', 'Pearl Jam', 'Joy Division', 'Mission of Burma', 'Lou Reed', 'Manic Street Preachers', 'The Verve', 'Nick Drake', 'Dizzee Rascal', 'Garbage', 'The Carpenters', 'Count Basie', 'Van Morrison', 'The Champs', 'Herbie Hancock', 'Lee Hazlewood & Nancy Sinatra', 'The Drifters', 'The Chiffons', 'Public Image Ltd.', 'Peter Gabriel', 'Johnny Burnette', 'Thunderclap Newman', 'The Kinks', 'Bill Withers', 'Tommy James and The Shondells', 'Cab Calloway & His Orchestra', 'Everything But the Girl', 'The Beach Boys', 'Eminem', 'Mickey and Sylvia', 'R.E.M.', 'Marvin Gaye', 'Joni Mitchell', 'Kaiser Chiefs', 'George Clinton', 'A Guy Called Gerald', 'Pretenders', 'Danny and The Juniors', 'T-Bone Walker', 'Leadbelly', 'The Drifters', 'Young M.C.', 'Green Day', 'Parliament', 'Nancy Sinatra', 'The Replacements', 'Bob Dylan', 'Linda Ronstadt', 'Sam Cooke', 'Jimmie Davis', 'Bloc Party', 'Mr. Oizo', 'Paul McCartney and Wings', 'Roy Acuff and The Smoky Mountain Boys', 'R.E.M.', 'Maurice Williams and The Zodiacs', 'Beck', 'Suede', 'Madonna', 'Billy Joel', 'Hot Chip', 'Missy Misdemeanor Elliott', 'Tim Buckley', 'Brandy and Monica', 'Merle Haggard', 'Lorraine Ellison', 'Hoagy Carmichael and His Pals', 'Clyde McPhatter & The Drifters', 'The Carter Family', 'The Dead Kennedys', 'Janet Jackson', 'Blondie', 'Coleman Hawkins', 'Queen & David Bowie', 'Jerry Butler with The Impressions', 'Queens of the Stone Age', 'David Bowie', 'Suede', 'Squeeze', 'Frank Sinatra', 'The Charlatans', 'The Wailers', 'R.E.M.', 'Shirley and Co.', 'Martha and The Muffins', 'Robert Palmer', 'Steely Dan', 'Gang of Four', 'Dolly Parton', 'The Surfaris', 'Mitch Ryder and The Detroit Wheels', 'Fugees', 'Hank Williams', 'Tone-Loc', 'Michael Jackson', \"Destiny's Child\", 'The Jam', 'Run-D.M.C.', 'Alicia Keys', 'Duane Eddy', 'Ian Dury and The Blockheads', 'The Strokes', 'The Isley Brothers', 'Heaven 17', 'John Lennon', 'Kitty Wells', 'Terry Riley', 'The Buzzcocks', 'Chris Isaak', 'Taana Gardner', 'Archie Bell & The Drells', 'Aaron Neville', 'Tricky', 'Butthole Surfers', 'Talking Heads', 'The Big Bopper', 'Kanye West', 'Midnight Oil', 'The Crystals', 'The Buzzcocks', 'Whitney Houston', 'James Brown', 'James Brown', 'Queen', 'The Orioles', 'The Coasters', 'Hole', 'The Chantels', 'Donna Summer', 'Chet Baker', 'Smokey Robinson and The Miracles', 'The Who', 'The Undisputed Truth', 'Mobb Deep', 'Jeff Buckley', 'Mahalia Jackson', 'David Bowie', 'Elvis Costello', 'Fats Waller', 'Eck Robertson', 'Billy Joel', 'The Smiths', 'Madonna', 'Jay-Z', 'Culture', 'Elvis Costello', 'Bob Dylan', 'Prince', 'Hank Williams', 'Massive Attack', 'Ray Charles', 'The Temptations', 'Bill Withers', 'Leonard Cohen', 'Chuck Berry', 'Run-D.M.C.', 'The Buggles', 'Led Zeppelin', 'The Trammps', 'Pulp', 'Eric B. & Rakim', 'The Cult', 'Joni Mitchell', 'The Futureheads', 'Carole King', 'Sly and the Family Stone', 'Mudhoney', \"S'Express\", 'The White Stripes', 'The Velvet Underground', 'Depeche Mode', 'Shania Twain', 'Lily Allen', 'Bob Marley and The Wailers', 'Parliament', 'The Beatles', 'The Isley Brothers', 'The Beatles', 'Nico', 'Peter, Paul and Mary', 'KC and The Sunshine Band', 'The Beatles', 'Charley Patton', 'Squarepusher', 'Sonic Youth', 'Phil Collins', 'Paul Simon', 'Nina Simone', 'Al Jolson', \"Ol' Dirty Bastard Feat. Kelis\", 'The Rolling Stones', 'LaVern Baker', 'Martha and The Vandellas', 'The Who', 'Simple Minds', 'Nine Inch Nails', \"The Flamin' Groovies\", 'The Rolling Stones', 'Elvis Presley', 'Warren Zevon', 'Oasis', 'Sufjan Stevens', 'Cypress Hill', 'Cypress Hill', 'XTC', 'New Order', 'The Teardrop Explodes', 'Lloyd Price', 'Elton John', 'Elton John', 'Suicide', 'Bryan Adams', 'The Eagles', 'Nelly Furtado', 'Cher', 'The Arcade Fire', 'Lester Flatt and Earl Scruggs', 'Supergrass', 'The Future Sound of London', 'Fleetwood Mac', 'Madonna', 'The Monotones', 'Phuture', 'Chumbawamba', 'The Postal Service', 'The Streets', 'Elvis Costello', 'Serge Gainsbourg & Brigitte Bardot', 'LCD Soundsystem', 'The Walkmen', 'Simon and Garfunkel', 'The Smiths', 'Desmond Dekker', 'Justin Timberlake', 'Afrika Bambaataa & The Soul Sonic Force', 'Camper Van Beethoven', 'Jimmy Forrest', 'The Meters', 'Roy Orbison', 'The Chi-Lites', 'Dusty Springfield', 'Bob Dylan', 'Jethro Tull', 'Chick Webb & His Orchestra with Ella Fitzgerald', 'Queen', 'The Beatles', 'Bob Marley and The Wailers', 'Prince', 'The Chemical Brothers', 'Prince', 'Public Enemy', 'The Cure', 'John Lennon', 'King Crimson', 'L7', 'The Del-Vikings', 'The Doors', 'Sam Cooke', 'X', 'The Carpenters', 'Johnny Horton', 'The Dandy Warhols', 'Elvis Presley', 'Leonard Cohen', 'The Marcels', 'Lefty Frizzell', 'My Bloody Valentine', 'Tears for Fears', 'The Sons of the Pioneers', 'Stetsasonic', 'Nirvana', 'Gary \"U.S.\" Bonds', 'Inner City', 'Bruce Springsteen', 'The Jimi Hendrix Experience', 'Tom Petty and The Heartbreakers', 'Eric Clapton', 'R.E.M.', 'The Beatles', 'Wanda Jackson', 'Althea and Donna', 'The Beatles', 'Miles Davis', 'This Mortal Coil', 'The Edwin Hawkins Singers', 'Pulp', 'Def Leppard', 'The Doors', 'Louis Jordan and His Tympany Five', 'Eels', 'The Count Five', 'Echo and the Bunnymen', 'Basement Jaxx', 'Pink Floyd', 'The Folk Implosion', 'Neil Young', 'EMF', 'USA for Africa', 'Joey Beltram', 'Wu-Tang Clan', 'Clipse', 'Daft Punk', 'Buffalo Springfield', 'Lupe Fiasco', 'The Streets', 'The Psychedelic Furs', 'Maximo Park', 'Sugababes', 'Fleetwood Mac', 'Nick Cave & The Bad Seeds', 'Biz Markie', 'Charlie Rich', 'The Eagles', 'Travis', 'Dizzy Gillespie', 'Elvis Costello', 'Grateful Dead', 'Bob Dylan', 'Millie', 'Ramones', 'The Buzzcocks', 'The Rolling Stones', 'Dobie Gray', 'P J Harvey', 'The Beat', 'Smokey Robinson and The Miracles', 'Bronski Beat', 'The Notorious B.I.G.', 'Pete Rock and CL Smooth', 'The Dells', 'New Order', 'Talking Heads', 'Johnnie Ray', 'Dawn Penn', 'Tammy Wynette', 'Patsy Montana', 'Betty Wright', 'Sly and the Family Stone', 'Hüsker Dü', 'Moloko', 'The Associates', \"Jane's Addiction\", 'Spice Girls', 'The Original Dixieland Jazz Band', 'LL Cool J', 'Nelly', 'Fisk Jubilee Singers', 'The Flying Lizards', 'Ryan Adams', 'Sylvester', 'Pink', 'Aaliyah', 'Les Brown & His Orchestra with Doris Day', 'The Yardbirds', 'The Byrds', 'Björk', 'Eddie Cochran', 'Iggy Pop', 'A-ha', 'The Incredible Bongo Band', 'Hank Snow', 'The Dixie Cups', \"Fiddlin' John Carson\", 'The Carpenters', 'Fugees', 'Dale Hawkins', 'John Waite', 'The Spinners', 'Ultravox', 'The Jaynettes', 'The Jesus and Mary Chain', 'The Rolling Stones', 'The Four Seasons', 'The Imposter', 'Jimmy Ruffin', 'Manic Street Preachers', 'The Who', 'Ernest Tubb', 'The Chi-Lites', 'The Cadillacs', 'Modern English', 'Otis Redding & Carla Thomas', 'The Byrds', 'Pearl Jam', 'Julie London', 'Nick Cave & The Bad Seeds', 'U2', 'Foo Fighters', 'The Strokes', 'The Faces', 'Metallica', 'The Moonglows', 'Mazzy Star', \"Howlin' Wolf\", 'Elton John', 'The Ink Spots', 'Lisa Lisa & Cult Jam with Full Force', 'Little Richard', 'The Isley Brothers', 'The Darkness', 'Billy Bragg', 'Basement Jaxx', 'Bob Dylan', 'Morrissey', 'Bob Wills and His Texas Playboys', 'The Coral', 'The Chantays', 'Pet Shop Boys', 'The Four Seasons', 'Santana', 'Squeeze', 'Eddie Floyd', 'Nina Simone', 'Depeche Mode', 'Neil Young with Crazy Horse', 'Johnny Nash', 'Creedence Clearwater Revival', 'Coldplay', 'Jeru the Damaja', 'The Flying Burrito Bros', 'The Strokes', 'Panjabi MC Feat. Jay-Z', 'Tom Petty and The Heartbreakers', 'Massive Attack', 'Jan and Dean', 'Bob Dylan', 'Lenny Kravitz', 'Bessie Smith', 'Cream', 'The Carter Family', 'The Beatles', 'Oasis', 'Guitar Slim', 'The Temptations', 'No Doubt', 'Steely Dan', 'Shannon', 'Rick Nelson', 'The Cult', 'The Jimi Hendrix Experience', 'Crosby, Stills and Nash', 'P J Harvey', 'Lou Reed', 'Curtis Mayfield', 'David Bowie', 'Underworld', 'The Replacements', 'Macy Gray', 'My Chemical Romance', 'Jimmie Rodgers', 'Daryl Hall and John Oates', 'Natalie Imbruglia', 'John Prine', 'The Beach Boys', 'Craig Mack', 'ABC', 'Nick Drake', 'John Cale', 'Nick Cave and Kylie Minogue', 'Pet Shop Boys', 'Dolly Parton', 'Smokey Robinson and The Miracles', 'Tori Amos', 'The Showmen', 'The Raspberries', 'The Replacements', 'Norman Greenbaum', 'Michael Jackson', 'The Jesus and Mary Chain', 'Pet Shop Boys', 'Double Dee & Steinski', 'The Moody Blues', 'The Temptations', 'Little Willie John', 'The Allman Brothers Band', 'Pink Floyd', 'Spiller', 'Prince and The New Power Generation', 'The Streets', 'The Kingston Trio', 'Phoenix', 'The Sabres of Paradise', 'The Velvet Underground & Nico', 'Paul Simon', 'Josh Wink', 'Plastic Ono Band', 'Carole King', 'Kelis', 'The Von Bondies', 'OutKast', \"Guns N' Roses\", 'The Beatles', 'Gang of Four', 'Elton John', 'Cheap Trick', 'Annie', 'The Turtles', 'Hot Hot Heat', 'Al Green', 'John Lennon', 'Leftfield Feat. John Lydon', 'System of a Down', 'Dick Dale', 'The Clovers', 'Wayne Smith', 'Fingers Inc.', 'ABBA', 'Vernon Dalhart', 'The Beatles', 'Erykah Badu', 'The Flaming Lips', 'Camera Obscura', 'Jay-Z', 'Harold Melvin and The Bluenotes', 'The Allman Brothers Band', 'David Bowie', 'Chuck Berry', 'The Animals', 'Bob Dylan', 'Alice Cooper', 'Coldplay', 'The Band', 'Gorillaz', 'Rufus', 'The Beatles', 'Electric Light Orchestra', 'Willie Nelson', 'Richard and Linda Thompson', 'Blind Lemon Jefferson', 'TLC', 'Captain Beefheart and His Magic Band', 'Bachman-Turner Overdrive', 'Ian Dury and The Blockheads', 'Glenn Miller', 'Frank Sinatra', 'ABBA', 'The Staple Singers', 'Devo', 'Robbie Williams', 'Björk', 'ABBA', 'Jimmy Reed', 'The Weavers', 'The 5th Dimension', 'Beastie Boys', 'Led Zeppelin', 'Lou Reed', 'The Four Tops', 'Mary J. Blige', 'Johnny Otis', 'Skip James', 'Dion', 'Bruce Springsteen', 'Patsy Cline', 'Creedence Clearwater Revival', 'Scissor Sisters', 'Johnny Cash', 'Green Day', 'The Stanley Brothers', 'Johnny Kidd and The Pirates', 'MC Hammer', 'Little Walter', 'Conway Twitty', 'Nas', 'Basement Jaxx', 'Azzido Da Bass', 'The Andrews Sisters', 'Smokey Robinson', 'Stevie Wonder', 'James Brown', 'Iron Butterfly', 'Patti Page', 'Tom Waits', 'Eddie and The Hot Rods', 'Bob Marley and The Wailers', 'The Contours', 'The Human League', 'Bonnie Raitt', 'Elliott Smith', 'Kiss', 'The Beatles', 'Lefty Frizzell', 'The Pipettes', 'David Bowie', 'The KLF', 'The Specials', 'The Chordettes', 'The Stone Roses', 'George Jones', 'Pigbag', 'Gregory Isaacs', 'The Pharcyde', 'Robert Johnson', 'Count Basie', 'Sigur Ros', 'Eddy Grant', 'Kriss Kross', 'Yeah Yeah Yeahs', 'The Isley Brothers', 'The Rolling Stones', 'The Smashing Pumpkins', 'Phil Phillips with The Twilights', 'The Drifters', 'Mercury Rev', 'Doug E. Fresh', 'Bobby Bare', 'Blondie', \"Destiny's Child\", 'Nick Drake', 'New Order', 'Led Zeppelin', 'The Beatles', 'Cabaret Voltaire', 'Hank Williams', 'James Brown', 'N.W.A.', 'The The', 'Dead Or Alive', 'LL Cool J', 'Lena Horne', 'Teenage Fanclub', 'Depeche Mode', 'Black Rebel Motorcycle Club', 'Merle Haggard', 'Sonic Youth & Lydia Lunch', 'Tom Waits', 'Bob Dylan', 'Tears for Fears', 'Crystal Waters', 'INXS', 'Blondie', 'George Jones', 'New Order', 'Fred Neil', 'Artists United Against Apartheid', 'Bikini Kill', 't.A.T.u.', 'Massive Attack', 'R.E.M.', 'Scott Joplin', 'Smash Mouth', \"Quad City DJ's\", 'Little Richard', 'Rod Stewart', 'Scissor Sisters', 'Billy Riley', 'Elvis Presley', 'Cream', 'The Who', 'Gloria Gaynor', \"Stereo MC's\", 'The Waterboys', 'Wu-Tang Clan', 'Bob Dylan', 'Foo Fighters', 'ZZ Top', 'R.E.M.', 'Indeep', 'Ruth Brown', 'David Bowie', 'Elvis Presley', 'The Human League', 'Tweet', 'Pink Floyd', 'Jim Reeves', 'Happy Mondays', 'Crosby, Stills, Nash & Young', 'Slayer', 'John Denver', 'Candi Staton', 'Janet Jackson', 'Public Enemy', 'Peter Gabriel', 'Gordon Lightfoot', 'Webb Pierce', 'Junior Walker & The All-Stars', \"Destiny's Child\", 'Duke Ellington', 'The Raspberries', \"The Shangri-La's\", 'Chuck Berry', 'A Certain Ratio', 'John Cage', 'Saint Etienne', 'Madness', 'The Stylistics', 'Pink Floyd', 'Gram Parsons', 'Wild Cherry', 'Townes Van Zandt', 'Steve Winwood', 'Hank Ballard and The Midnighters', 'Bennett, Tony', 'Neil Young', 'Weezer', 'Inner City', 'The Primitives', 'Chamillionaire', 'Primal Scream', 'Marvin Gaye', 'A Tribe Called Quest', 'Average White Band', \"The O'Jays\", 'Helen Reddy', 'Sam Cooke', 'Peter Gabriel', 'Nat King Cole', 'Cliff Edwards', 'Ricky Nelson', 'Marshall Jefferson', 'Aerosmith', 'The Silhouettes', 'The Bangles', 'Run-D.M.C.', 'The Four Tops', 'Public Image Ltd.', 'The Coasters', 'Foo Fighters', 'John Lennon', 'Aretha Franklin', 'Prince', \"D'Angelo\", 'Blink-182', 'Jackson Browne', 'Urge Overkill', 'The Doobie Brothers', 'Eve Feat. Gwen Stefani', 'The Four Tops', 'The Prodigy', 'The Beatles', 'The Orb', 'The Who', 'The Seeds', 'Jacques Brel', 'Suicide', 'The Beatles', 'Living Colour', 'Thin Lizzy', 'Björk', 'TV on the Radio', 'M', 'Eric Clapton', 'Peter Tosh', 'The Beatles', 'Diana Ross', 'Three 6 Mafia', 'Prince and The Revolution', 'The Village People', 'Paul Revere & The Raiders', 'The Bucketheads', 'Timmy Thomas', 'Blind Willie McTell', 'Dillinger', 'Bob Dylan', 'Digital Underground', 'The Birthday Party', 'Wilson Pickett', \"Lil' Jon and The Eastside Boyz Feat. Ying-Yang Twins\", 'The Police', 'Alter Ego', 'Jay-Z', 'Doves', 'Bud Powell', 'Bad Company', 'Professor Longhair and His Blues Scholars', 'Queen', 'Elvis Presley', 'Weather Report', 'Pet Shop Boys', 'Buddy Holly', 'A Tribe Called Quest', 'Public Enemy', 'Patsy Cline', 'Evelyn \"Champagne\" King', \"The Go-Go's\", 'Prince and The New Power Generation', 'At the Drive-In', 'Freelance Hellraiser', 'Radiohead', 'Missy Misdemeanor Elliott', 'Wings', 'Lucinda Williams', 'John Cougar Mellencamp', 'The Beach Boys', 'Hard-Fi', 'Primal Scream', 'Public Image Ltd.', 'Cream', 'Pink Floyd', 'John Coltrane', 'Stevie Wonder', 'U2', 'Bob Marley and The Wailers', 'The Allman Brothers Band', 'Prince', 'Jackson Browne', 'Ben Selvin Orchestra', 'Bobby Brown', 'Radiohead', 'XTC', 'De La Soul Feat. Q-Tip', 'Elton John', 'R.E.M.', 'Stevie Wonder', 'Social Distortion', 'Malcolm McLaren', 'Peter Gabriel', 'Romeo Void', \"The Shangri-La's\", 'Blood, Sweat & Tears', 'Big Punisher Featuring Joe', 'Black Sheep', 'XTC', 'Japan', 'Artie Shaw & His Orchestra', 'Blur', 'The Gap Band', 'James Brown', 'Hank Williams', 'Prince and The Revolution', 'James Brown', 'The Falcons', 'The Doors', 'Sublime', 'Van Morrison', 'Bruce Springsteen', 'Toni Basil', 'Elliott Smith', 'John Barry Orchestra', 'The Rolling Stones', 'Freddie King', 'EPMD', 'Gene Autry', \"Salt 'n' Pepa with En Vogue\", 'Tenor Saw', 'The Beach Boys', 'U2', 'Cracker', 'The Vapors', 'Billy Bragg', 'Dizzee Rascal', 'Ringo Starr', 'The Gossip', 'Gwen Guthrie', 'The Velvet Underground', 'Diana Ross', 'Lesley Gore', \"Lil' Louis\", 'Belly', 'Van Morrison', 'The Bee Gees', 'Big Country', 'The Libertines', 'Junior Boys', 'The Notorious B.I.G.', 'Oasis', 'Meat Puppets', 'Glen Campbell', 'Sly and the Family Stone', 'Toots and The Maytals', 'Tone-Loc', 'Solomon Burke', 'Crowded House', 'Primal Scream', 'They Might Be Giants', 'The Beatles', 'Coldplay', 'Tubeway Army', 'A Tribe Called Quest', 'The Trashmen', 'Wyclef Jean', 'Sammi Smith', 'Slade', 'The Libertines', 'Weezer', 'Stiff Little Fingers', 'Madonna', 'Liz Phair', 'Chuck Willis', 'The Rolling Stones', 'The Jesus and Mary Chain', 'Arthur Conley', 'A Tribe Called Quest', 'Barrington Levy', 'Def Leppard', 'Neil Young', 'The Kinks', 'Ken Boothe', 'Busta Rhymes', 'Loretta Lynn', 'Chiccone Youth', 'The Delfonics', 'LL Cool J', 'M.I.A.', 'Television', 'The Pop Group', 'Harry Richman', 'Sonny Boy Williamsson (II)', 'The Smiths', 'Kanye West', 'The Sabres of Paradise', 'Talking Heads', 'Band Aid', 'Bing Crosby', 'Duke Ellington', 'The Jim Carroll Band', 'The Jam', 'The Beatles', 'Bachman-Turner Overdrive', 'Matthew Sweet', 'Method Man', 'Garth Brooks', 'Steve Miller Band', 'Audio Two', 'Roots Manuva', 'Lynn Anderson', 'De La Soul', 'Isham Jones Orchestra', 'Badly Drawn Boy', 'The El Dorados', 'Vaughn Monroe', 'Hole', 'Newcleus', 'The Jimi Hendrix Experience', 'Oasis', 'Daryl Hall and John Oates', 'Leonard Cohen', 'Billy Riley', 'Aretha Franklin', 'The Killers', 'The Shirelles', 'Fleetwood Mac', 'James Brown', 'Prince', 'Ms. Dynamite', 'Jessie Hill', 'Isolee', 'k.d. Lang', 'The Cure', 'The Beatles', 'Bob Dylan', 'Fats Waller', 'The Stooges', 'The Chemical Brothers', 'Rod Stewart', 'US 3', \"D'Angelo\", 'Coolio', 'Celine Dion', 'Fats Domino', 'The Streets', 'Black Sabbath', 'The Chemical Brothers', 'Nina Simone', 'The Diamonds', 'Del Shannon', 'The Beat', 'D.N.A. Feat. Suzanne Vega', 'The Small Faces', 'Duke Ellington', 'The Style Council', 'The Shirelles', 'Al Green', 'The Clash', 'The Shins', 'Lionel Richie', 'Elvis Presley', 'Peggy Lee', 'Led Zeppelin', 'White Town', 'Aphex Twin', 'The Go-Betweens', 'Goo Goo Dolls', 'Phil Ochs', 'Neil Young', 'Green Day', 'Smashing Pumpkins', 'Albert King', 'Roxy Music', 'The Dandy Warhols', 'Interpol', 'Beck', 'The Offspring', 'The Rolling Stones', 'LL Cool J', 'The Doors', 'The Saints', 'Jackie DeShannon', 'John Cougar Mellencamp', 'The Elegants', \"Stealer's Wheel\", 'Das EFX', 'Suede', 'The Church', 'James Brown', 'Frank Sinatra', 'Rhoda Dakar', 'Red Hot Chili Peppers', 'McAlmont and Butler', 'The Roots Feat. Erykah Badu', 'Betty Boo', 'LL Cool J', 'Blondie', 'The Clash', 'Alex Reece', 'Peter Gabriel', 'Super Furry Animals', 'Eddie Cantor', 'The Velvet Underground', 'The Smiths', 'Bob Dylan', 'Randy Travis', 'The Kinks', 'Avril Lavigne', 'Richard and Linda Thompson', 'Faron Young', 'Harold Melvin and The Bluenotes', 'The KLF', 'Diana Ross', 'The Everly Brothers', 'Kenny Rogers', 'Charlie Daniels Band', 'Bob Marley and The Wailers', 'Scissor Sisters', 'Culture Club', 'Art Brut', 'Loretta Lynn', 'The Cure', 'Van Halen', 'Bob Dylan', 'Boogie Down Productions', 'Tim Hardin', 'Mongo Santamaria', 'Armand Van Helden', 'The Young Rascals', 'The Stone Roses', 'The Beatles', 'Patti Smith Group', 'Super Furry Animals', 'Al Green', 'Billy Ward & The Dominos', 'Patsy Cline', 'Isaac Hayes', 'Heart', 'Primal Scream', 'George Benson', 'Bob Hope/Shirley Ross', 'Dick Dale', 'U.T.F.O.', 'The Dead Kennedys', 'The Cardigans', 'Band of Horses', 'Hüsker Dü', 'Simple Minds', 'Portishead', 'Nina Simone', 'Semisonic', 'The Sisters of Mercy', \"Ol' Dirty Bastard\", 'Ruben Bladés', 'Lily Allen', 'Jerry Butler', 'The Avalanches', 'Aretha Franklin', 'Cat Stevens', 'Tori Amos', 'R. Kelly', 'Fats Domino', 'Curtis Mayfield', 'The Clash', 'The Artful Dodger', 'Nat King Cole', 'Smokey Robinson and The Miracles', 'Orbital', 'A Flock of Seagulls', 'Beck', 'Slim Harpo', 'The Rolling Stones', 'Björk', 'Underworld', 'Joni Mitchell', 'The Yardbirds', 'Beyoncé', 'Soundgarden', 'Nat King Cole', 'Blur', 'Neil Young with Crazy Horse', 'Eric Clapton', 'Curtis Mayfield', 'Stereolab', 'Gene Austin', 'Patti Smith', 'Kraftwerk', 'Reverend Thomas A. Dorsey', 'Split Enz', 'Gang of Four', 'Nilsson', 'Leo Reisman & His Orchestra with Fred Astaire', 'The Stone Roses', 'Ash', 'Lucinda Williams', 'Bobby Bland', 'Mark Dinning', 'U2', 'The Rolling Stones', 'The Smiths', 'Donovan', 'Nirvana', 'Sheila E.', 'Plastic Bertrand', 'The Commodores', 'The Cadets', 'Metallica', 'Dionne Warwick', 'The Pogues', 'Inspiral Carpets', \"The Shangri-La's\", 'Duran Duran', 'Oasis', 'The Fall', 'Sweet', 'Stevie Wonder', 'The Fall', 'Wolfman Feat. Pete Doherty', 'Green Day', 'Billy Bragg', 'The Five Royales', 'Bob Dylan', 'The Delfonics', 'Yes', 'The Platters', 'Talk Talk', 'Aerosmith', 'Juliana Hatfield Three', 'Duke Ellington', 'Duran Duran', 'Console', 'Jarvis Cocker', 'Mike Jones', 'Richard Ashcroft', 'The Beatles', 'Moby', 'Pet Shop Boys', 'The The', 'The Godfathers', 'The Beatles', \"Gilbert O'Sullivan\", 'Digable Planets', 'Bobby Bland', 'War', 'Shirley and Lee', 'Michelle Shocked', 'Art Tatum', 'Charlie Christian with the Benny Goodman Orchestra', 'The Impressions', 'The Jimi Hendrix Experience', 'The Jam', 'The Jackson 5', 'Antonio Carlos Jobim', 'The Velvet Underground & Nico', 'Anthrax Feat. Chuck D.', \"Charles Brown with Johnny Moore's Three Blazers\", 'Sean Paul', 'Donna Summer', 'Dion', 'Dire Straits', 'Los Lobos', 'The Hives', 'The Beta Band', 'The Jimi Hendrix Experience', 'Ricky Martin', 'The Hollies', 'Grandaddy', 'The Cure', 'Jeff Buckley', 'The Flying Burrito Bros', 'Nusrat Fateh Ali Khan', 'Angelo Badalamenti', 'The Cramps', 'Men at Work', 'Grace Jones', 'Funkadelic', 'The Normal', 'Love & Rockets', 'Chauncy Olcott', 'Little Richard', 'Garbage', 'Arrested Development', 'Tears for Fears', 'Jimmy Cliff', 'Pharrell Feat. Jay-Z', 'Chan Romero', 'Fountains of Wayne', 'The Bee Gees', 'The Byrds', 'Percy Faith & His Orchestra', 'Rosanne Cash', 'Suede', 'Blur', 'Solomon Burke', 'The Cure', 'Bob Marley and The Wailers', 'Talking Heads', 'The Beatles', 'Boz Scaggs', 'Liz Phair', 'Sophie B. Hawkins', 'Ike and Tina Turner', 'Morrissey', 'Plastic Ono Band', 'Faze Action', 'Sly and the Family Stone', 'Hole', \"Youssou N'dour & Neneh Cherry\", 'The Knife', 'The Rolling Stones', 'Madonna', 'Grateful Dead', 'Deep Purple', 'War', 'Buck Owens', 'Wham! Feat. George Michael', 'Black Grape', \"Ol' Dirty Bastard\", 'Stan Getz and Joao Gilberto', 'James', 'Claudine Clark', 'Chuck Berry', 'The Guess Who', 'The Rolling Stones', 'Bob Dylan', 'Manu Dibango', 'Wilco', 'Bran Van 3000', 'Fleetwood Mac', 'The Human League', 'Echo and the Bunnymen', \"Destiny's Child\", 'Dr. Dre Feat. Snoop Doggy Dogg', 'Nolan Strong & The Diablos', 'The Sundays', 'The Smiths', 'The Cranberries', 'The Cars', 'Lauryn Hill', 'Fine Young Cannibals', 'McFadden and Whitehead', 'The Mills Brothers', 'The Beach Boys', 'Scritti Politti', 'Bonnie Tyler', 'The Jesus and Mary Chain', 'James Brown', 'Röyksopp', 'Dave Matthews Band', 'Johnny Cash', 'New Order', 'Yo La Tengo', 'Public Enemy', 'Le Tigre', 'Chuck Berry', 'Mariah Carey', 'The Melodians', 'Cassie', 'Björk', 'Neil Young', 'Billy Idol', 'Eric Burdon & War', 'Norah Jones', 'Journey', 'Duran Duran', 'Ramones', 'The Browns', 'Eric Clapton', 'Cat Power', 'Black Box', 'Joe Smooth', 'Spoon', 'Muddy Waters', 'The Knife', 'Aaliyah', 'Madonna', 'Kelis', 'Jelly Roll Morton', 'LaVern Baker', 'Gang Starr', 'Spoon', 'I-F', 'The Angels', 'The Vines', 'DJ Shadow', 'Queens of the Stone Age', 'Leonard Cohen', 'Earth, Wind & Fire with The Emotions', 'The Beach Boys', 'Bob Dylan', 'Whitney Houston', 'Badfinger', 'Jürgen Paape', 'Rihanna', 'Michael Jackson', 'Percy Mayfield', 'Everclear', 'The Cardigans', 'Lambchop', 'Len', 'Jean Knight', 'The Jive Five', 'Black Flag', 'Bonnie Raitt', 'Jesus Jones', 'Modern Jazz Quartet', 'Faithless', 'Lisa Stansfield', 'Fats Domino', 'Beastie Boys', 'Blind Lemon Jefferson', 'The House of Love', 'Willie Nelson', 'Elvis Presley', 'Interpol', 'Sophie Tucker', 'Photek', 'The Rolling Stones', 'Katrina and The Waves', 'Whitney Houston', 'Sam Cooke', 'Sasha', \"Count Basie's Kansas City Seven\", 'The Everly Brothers', 'Etta James', 'Grand Funk Railroad', 'Robyn', 'Run-D.M.C.', 'Sex Pistols', 'Bill Monroe', 'Richard Harris', 'Frankie Lymon and The Teenagers', 'Elmore James', 'The Eagles', 'Lee Dorsey', 'Dixie Chicks', 'X-Ray Spex', 'The Clovers', 'Super Furry Animals', 'Killing Joke', 'Paul Whiteman & His Orchestra', 'Barry McGuire', 'The Rolling Stones', 'Interpol', 'Mary J. Blige', 'David Bowie', 'Pharrell Williams Feat. Gwen Stefani', 'Tom Jones', 'The Three Degrees', 'The Rolling Stones', 'Khaled', 'Kenny Rogers & the First Edition', 'Hole', 'The Skyliners', 'Led Zeppelin', 'Prefab Sprout', 'Chuck Berry', '10 CC', 'The Knickerbockers', 'The Sons of the Pioneers', 'Minor Threat', 'The Skatalites', 'Echo and the Bunnymen', 'The Real Roxanne', 'John Cougar Mellencamp', 'Bob Wills and His Texas Playboys', 'Disposable Heroes of Hiphoprisy', 'The Moody Blues', 'Primal Scream', 'Steve Miller Band', 'The Jackson 5', 'Loretta Lynn', 'Traffic', 'Black Eyed Peas', 'Pretenders', 'Emmett Miller & His Georgia Crackers', 'Johnny Ace', 'Weezer', 'Robert Johnson', 'Eddy Arnold', 'The Four Seasons', 'Wilson Pickett', 'Creedence Clearwater Revival', 'Black Flag', 'Delta 5', 'Marvin Gaye', 'Neil Young', 'Adamski', 'Madonna', 'Nick Drake', 'Suede', 'The Cure', 'Subway Sect', 'Franz Ferdinand', 'The Dixie Cups', 'Stevie Nicks', 'Rickie Lee Jones', 'Elastica', 'Fats Waller', 'Sam and Dave', 'R.E.M.', 'Lisa Loeb & Nine Stories', 'Meat Loaf', 'Bessie Smith', 'The Cure', 'Del Shannon', 'Joe Simon', 'Three Dog Night', 'Frankie Ford', 'The Boo Radleys', 'James Taylor', \"Destiny's Child\", 'Elvis Costello with Burt Bacharach', 'Prince', 'All Saints', 'Jet', 'T. Rex', 'Sonic Youth', 'Kool and The Gang', 'Duke Ellington', 'Robert Johnson', 'Huey \"Piano\" Smith & The Clowns', 'Ramsey Lewis Trio', 'Clarence Carter', 'Yeah Yeah Yeahs', 'Shep and The Limelites', 'Arthur Brown', 'Mamie Smith', 'Soul Coughing', 'Clarence \"Tom\" Ashley', 'Ma Rainey', 'Bix Beiderbecke', 'Clarence \"Pine Top\" Smith', 'Tommy Dorsey & His Orchestra', 'Bunny Berrigan & His Orchestra', 'Lionel Hampton', 'Massive Attack', 'N.E.R.D.', 'Sister Rosetta Tharpe', 'The Dust Brothers', 'Nena', 'The Standells', 'Lowell Fulson', 'Guy Mitchell', 'Sugar', 'Roy Davis Jr.', 'Genesis', 'Paul Simon', 'Shaggy', 'Gang Starr Feat. Nice & Smooth', 'Dizzee Rascal', 'Thompson Twins', 'LCD Soundsystem', 'Django Reinhardt & Stephanie Grappelli', 'Bob Dylan', 'The Vines', 'The Rolling Stones', 'The Beatles', 'Uncle Dave Mason', 'Charlie Poole & the North Carolina Ramblers', 'DeFord Bailey', 'De La Soul', 'Junior Walker & The All-Stars', 'Kraftwerk', 'Garnet Mimms & The Enchanters', 'Big Black', 'The Chairmen of the Board', 'Louis Armstrong', 'Lou Reed', 'Whitesnake', 'The Commodores', 'Bobby Freeman', 'Kid Rock', 'Al Dexter', 'TLC', 'Los Lobos', 'Take That', 'The Beatles', 'Robert Johnson', 'Walter Huston', 'Fiona Apple', 'Jimmie Rodgers', 'Max Romeo', 'Marvin Gaye & Tammi Terrell', 'Lesley Gore', 'The Beloved', 'Seal', 'Ray Charles', 'The Pursuit of Happiness', 'Weezer', 'Primitive Radio Gods', 'The Beach Boys', 'Cream', 'Huey \"Piano\" Smith & The Clowns', 'Radiohead', 'Radiohead', 'Moby', 'Babyshambles', 'Twista Feat. Kanye West & Jamie Foxx', 'The White Stripes', 'Sade', 'Janet Jackson', 'Janet Jackson', 'The Temptations', 'Jaydee', 'All Saints', 'Keith Jarrett', 'The Jam', \"L'Trimm\", 'The Bee Gees', 'Suede', 'Killing Joke', 'Culture Club', 'Del Shannon', 'Jimmy Reed', 'Charlie Rich', 'Weezer', 'Adam and The Ants', 'Flowered Up', 'Tom Petty and The Heartbreakers', 'Curtis Mayfield', 'Rush', 'Sonny Boy Williamson (I)', 'Pulp', 'Harvey Danger', 'The Walker Brothers', 'Bomb the Bass', 'Rufus and Chaka Khan', 'The Rolling Stones', 'Matthew Sweet', 'The Beatles', 'The Style Council', 'Rod Stewart', 'Embrace', 'Elvis Presley', 'Deichkind', 'Erroll Garner', 'U2', 'Brian Eno', 'John Coltrane', 'The Dovells', 'Regina Spektor', 'Green Day', 'The Band', 'Tony Joe White', 'Aretha Franklin', 'The Specials', 'Malcolm X', 'Jimi Hendrix', 'Boogie Down Productions', 'Thomas Dolby', 'Charles Mingus', 'Van Halen', 'Julee Cruise', 'The Kinks', 'Schoolly D', 'Lloyd Price', 'Stevie Wonder', 'Joe South', 'Mantronix', 'Dock Boggs', 'Mungo Jerry', 'Missy Misdemeanor Elliott', 'Bobby McFerrin', 'Nirvana', 'Ma$e Feat. Kelly Price', 'Bruce Springsteen', 'AC/DC', 'Counting Crows', 'The Tokens', 'The Psychedelic Furs', 'Boogie Down Productions', 'Bing Crosby & The Andrews Sisters', 'Art of Noise', 'Bow Wow Wow', 'Betty Everett', 'Willie Nelson', 'Yazoo', 'Dimples D.', 'Madness', 'Sugababes', 'Bell Biv Devoe', 'Ray Charles', 'Shabba Ranks', 'The Tymes', 'The Diamonds', 'Radiohead', 'Harold Melvin and The Bluenotes', 'The Rivingtons', 'Tommy Tucker', 'The Mekons', 'LTJ Bukem', 'Interpol', 'Nine Inch Nails', 'Sebastien Tellier', 'Monie Love', 'Charlie Parker', 'Nick Lowe', 'Teenage Fanclub', 'Joni Mitchell', \"Howlin' Wolf\", 'The Ronettes', 'Yo La Tengo', 'Dizzy Gillespie', 'Beck', 'Ernie K-Doe', 'Elvis Presley', 'Echo and the Bunnymen', 'Johnny Mathis', 'Massive Attack', 'ZZ Top', 'The Archies', 'Fleetwood Mac', 'Dream Warriors', 'Little Walter', 'Big Star', 'Christina Aguilera', 'Carole King', 'The Jam', 'Neil Diamond', 'Blink-182', 'Pink Floyd', 'Darlene Love', 'Dinah Washington', 'Gerry Rafferty', 'Kula Shaker', 'Richard Berry', 'Brian Eno', 'The Damned', 'Darlene Love', 'Hank Thompson and His Brazos Valley Boys', 'Placebo', 'Chuck Berry', 'Kim Wilde', 'The Crystals', '2Pac Feat. Shock G & Money B', 'Supergrass', 'Tommy James and The Shondells', 'The Four Seasons', 'The Prodigy', 'The Boomtown Rats', 'The Emotions', 'Wreckless Eric', 'Blind Melon', 'Culture Club', 'Pretenders', 'Frank Sinatra', 'Paul Simon', 'Neil Young', 'Eddy Arnold & His Guitar', 'New Order', 'Roberta Flack', \"The B-52's\", 'R. Kelly', 'Janet Jackson', 'Queen Latifah', 'The Pharcyde', 'Little Feat', 'Clipse with Slim Thug', 'Shaggy', 'David Ackles', 'Green Day', 'ABC', 'Little Richard', 'Beastie Boys', 'Mick Jagger', 'Little Anthony and The Imperials', 'Neneh Cherry', 'Sly and Robbie', 'Gram Parsons', 'Mississippi John Hurt', 'Isaac Hayes', 'Billy Ward & The Dominos', 'Frankie Trumbauer & His Orchestra with Bix Beiderbecke', 'David Bowie', 'The Ronettes', 'Garbage', 'Fanny Brice', 'Deutsch Amerikanische Freundschaft', 'Soul Asylum', 'SOS Band', 'Ethel Waters', 'The Rolling Stones', 'Blind Willie Johnson', 'Big Joe Williams', 'Chaka Demus & Pliers', 'Womack and Womack', 'Big Maceo', 'Francoise Hardy', 'Pretenders', 'Madonna', 'Sonny Rollins', 'The Chemical Brothers', 'Craig David', 'Al Green', 'Oasis', 'Electric Six', 'Spandau Ballet', 'Sir Mix-A-Lot', 'Bing Crosby', 'Ike and Tina Turner', \"Howlin' Wolf\", 'The Rolling Stones', 'Frank Sinatra', 'Nat King Cole', 'Yazoo', 'Neil Young with Crazy Horse', 'Eric B. & Rakim', 'Schoolly D', 'Tommy Edwards', 'Queen', 'The Flaming Lips', 'Fairport Convention', 'Skeeter Davis', 'Editors', 'Wire', 'U-Roy', 'Mariah Carey', 'Eurythmics', 'The Cure', 'Funkadelic', 'Arctic Monkeys', 'Beastie Boys', 'Pete Seeger', 'Blur', 'Joan Baez', 'Daddy Cool', 'The Four Tops', 'That Petrol Emotion', 'The Righteous Brothers', 'Otis Redding', 'Dave Dudley', 'John Martyn', 'The Cure', 'Missy Misdemeanor Elliott', 'The New Pornographers', 'The Smiths', 'Electronic', 'X-Press 2 feat. David Byrne', 'The KLF', 'Britney Spears', 'Bruce Springsteen', 'Christina Aguilera', 'The Spinners', 'The Eagles', 'Air', 'The Band', 'The Stanley Brothers', 'Eddy Arnold & His Tennessee Plowboys', 'Alan Braxe and Fred Falke', 'The Rolling Stones', 'The Dead Kennedys', 'Soundgarden', 'Johnny Horton', 'Bruce Channel', 'Kelis', 'Pete Shelley', 'AC/DC', 'Roxanne Shanté', 'Antonio Carlos Jobim', 'Bobby Darin', 'The Monkees', 'Creedence Clearwater Revival', 'Thelma Houston', 'Primal Scream', 'Elton John', 'Rainbow', 'Richard and Linda Thompson', 'Weezer', 'Sisqo', 'Roxy Music', 'Fearless Four', 'Sugababes', 'Frankie Smith', 'Glen Campbell', 'LFO', 'Elliott Smith', 'U2', 'Keane', 'Bill Evans', 'Patti Smith', 'Steve Miller Band', 'The Knife', 'Ween', 'Tool', 'Harry J. Allstars', 'The Rolling Stones', 'Tindersticks', 'Peaches', 'Jimmy Reed', 'Nick Lowe', 'Gene Kelly', 'Bruce Springsteen', 'Happy Mondays', 'Roxy Music', 'Prefab Sprout', 'Coldplay', 'George Michael', 'The Beatles', 'Bobby Bland', 'Keane', 'Gang of Four', 'Sneaker Pimps', 'Madonna', 'Gene Pitney', 'Andrew W.K.', 'Mark Morrison', 'Elvis Costello', 'Hüsker Dü', \"Puff Daddy Feat. The Lox, Lil' Kim & The Notorious B.I.G.\", 'The Monkees', 'James & Bobby Purify', 'Dizzy Gillespie', 'The Eagles', 'Big Star', 'Bob Marley and The Wailers', 'Wall of Voodoo', 'R.E.M.', 'The Jimi Hendrix Experience', 'Bob Dylan', 'Peaches and Herb', 'Roni Size/Reprazent', 'Electronic', 'Gang of Four', 'Buddy Holly', 'The Turbans', 'Earl Bostic', 'Musical Youth', 'Scritti Politti', 'Pet Shop Boys Feat. Dusty Springfield', 'The Castaways', 'Wire', 'Big Daddy Kane', 'Justice Vs. Simian', 'Pretenders', 'Ryan Adams', 'Farley Jackmaster Funk', 'Lloyd Cole and The Commotions', 'The Flaming Lips', 'The Small Faces', 'Lester Young', 'Talking Heads', 'ZZ Top', 'The Dramatics', 'The Beach Boys', 'Deftones', 'Pere Ubu', 'Jeans Team', 'The Beatles', 'The Four Tops', 'Underworld', 'Depeche Mode', 'Dave Edmunds', 'The Libertines', 'Adeva', 'Yazoo', 'Supertramp', 'Run-D.M.C.', 'Kenny Rogers & Dolly Parton', 'R.E.M.', 'Frank Sinatra', 'The Streets', 'Merle Haggard', 'R.E.M.', 'Marianne Faithfull', 'Funky Four Plus One', 'Ray Price', 'Frank Zappa', 'Liz Phair', 'The Lemonheads', 'Primal Scream', 'Arthur Alexander', 'Treacherous Three', 'The Move', 'Bruce Springsteen', 'Biz Markie', 'The Impressions', 'Roxy Music', 'Talk Talk', 'Japan', 'Gary Glitter', 'The Fugs', 'The Small Faces', 'Kristin Hersh & Michael Stipe', 'The Presidents of the United States of America', 'Solomon Burke', 'Dr. John', \"The B-52's\", 'Hot Chocolate', 'Lumidee', 'Blur', 'Hardfloor', \"Howlin' Wolf\", 'Bubba Sparxxx', 'Graham Coxon', 'Dean Martin', 'Prince', 'Brook Benton', 'B.B. King', 'Stan Kenton', 'Chick Corea', 'Body Count', 'Depeche Mode', 'John Fogerty', 'Teena Marie', 'Red Hot Chili Peppers', 'Dave Clark Five', 'The Delmore Brothers', 'Dead Milkmen', 'Suicidal Tendencies', 'Keith Richards', 'Tom Cochrane', 'Aretha Franklin', 'Gordon Lightfoot', 'Golden Boy Feat. Miss Kittin', 'Stone Temple Pilots', 'Jeannie C. Riley', 'The Replacements', 'Sir Douglas Quintet', 'Iron Maiden', 'Muse', 'Bessie Smith', 'Ministry', 'Sonic Youth', 'The Nails', 'The Crows', 'The Byrds', 'Blur', 'Leonard Cohen', 'The Miracles', 'Donovan', 'Steely Dan', 'Bob Marley and The Wailers', 'The Clash', \"The Swingin' Medallions\", 'Ratt', 'Martin Denny', 'The Manhattans', 'Twisted Sister', 'SOS Band', 'Henry Mancini', '\\x91Til Tuesday', 'Pérez Prado', 'Joe Tex', 'John Lennon', 'Röyksopp', 'Merle Haggard', 'Neil Young', 'Yeah Yeah Yeahs', 'Goldfrapp', 'Ray Price', 'Age of Chance', 'Euromasters', 'William Bell', 'Steely Dan', 'Eminem', 'Marvin Gaye', 'Dinosaur Jr.', 'Whodini', 'Mylo', 'Neil Sedaka', 'Bing Crosby & The Andrews Sisters', 'Tindersticks', 'Talking Heads', 'Lenny Kravitz', 'Bobby Darin', 'Midlake', 'The Notorious B.I.G.', 'Robbie Williams', 'N.E.R.D.', 'The Association', 'Edgar Winter Group', 'Roy Orbison', 'Depeche Mode', 'The Police', 'Television', 'The Cure', 'Rush', 'Paula Abdul', 'Loretta Lynn', 'Coati Mundi', 'The Rolling Stones', 'Annie', 'Doves', 'The Velvet Underground', 'Bryan Ferry', 'De La Soul', 'The Who', 'Schoolly D', 'The Beatles', 'Oasis', 'The Rolling Stones', 'Chet Baker', 'Otis Rush', 'The Roots', 'Creedence Clearwater Revival', 'Dr. Dre feat. Snoop Dogg', 'Scott Walker', 'Robin S.', 'Carl Perkins', 'Manfred Mann', 'The Barbarians', 'Bob Dylan', 'Chuck Willis', 'The Screaming Trees', 'International Pony', 'Madonna', 'Jurassic 5', 'Joe South', 'Muse', 'The Pogues', 'Garbage', 'Stevie Wonder', 'Public Enemy', 'Joy Division', 'Frank Sinatra', 'Dusty Springfield', 'The Beatles', 'N.W.A.', 'Joe Walsh', 'Aphex Twin', 'Joan Armatrading', 'Chuck Berry', 'Marilyn Manson', 'Leonard Cohen', 'Pretenders', 'Marvin Gaye & Tammi Terrell', 'Jerry Jeff Walker', 'Mötley Crüe', 'Spoonie Gee', 'DJ Zink', 'Faye Adams', 'Fred Astaire', 'The Contours', 'The Stylistics', 'Parliament', 'The Isley Brothers', 'The Spinners', 'Bow Wow Wow', 'Joe Cocker & Jennifer Warnes', 'The Strokes', 'Travis', 'The House of Love', 'Ghostface Killah', 'Pharoahe Monch', 'Josef K', 'Justice', 'The Dells', 'The Teardrop Explodes', 'Beastie Boys', 'Gil Scott-Heron', 'U2', 'Bob Marley and The Wailers', 'Traffic', 'The Loved Ones', 'The Police', 'Gen X', 'Roy Orbison', \"Sinéad O'Connor\", 'Teenage Fanclub', 'Public Enemy', 'Haircut 100', 'Aerosmith', 'E.U.', 'Lloyd Price', 'Pet Shop Boys', 'Pere Ubu', 'Sweet', 'Moby Grape', 'Gil Scott-Heron', 'The Velvet Underground', 'Black Box', 'Mariah Carey', 'Japan', 'Pearl Jam', 'Gwen Stefani', 'Cameo', 'Baby Bird', 'Eminem', 'Beastie Boys', 'Jody Reynolds', 'Travis', 'Run-D.M.C.', 'Department S', 'The Eagles', 'Little Johnny Taylor', 'Blur', 'Little Willie John', 'Barry White', 'Snoop Doggy Dogg', 'The Stray Cats', 'The Eagles', 'Pretenders', 'Jam & Spoon', 'Paul McCartney and Wings', 'Moloko', 'Billy Swan', 'Aretha Franklin', 'Ted Leo & The Pharmacists', 'Doc Watson', 'Bob Dylan', 'Bob Mould', 'Jon Spencer Blues Explosion', 'Metallica', 'Aretha Franklin', 'The Jackson 5', 'The Rolling Stones', 'Spencer Davis Group', 'The Velvelettes', 'The Brains', 'The Rolling Stones', 'John Kongos', 'Mike Oldfield', 'Midnight Oil', 'Steve Perry', 'Ike and Tina Turner', 'Jimmy Eat World', 'The Strokes', 'Orange Juice', 'Elton John', 'Aretha Franklin', 'Gil Scott-Heron', 'Led Zeppelin', 'Eddie Kendricks', 'Beenie Man', 'Primal Scream', 'The Pretty Things', 'The Beatles', 'The Notwist', 'Nas', 'M People', 'Chic', 'The Heptones', 'Roxy Music', 'Little Feat', 'Pat Benatar', 'Black Box Recorder', 'Bob Dylan', 'Sebadoh', 'Phoenix', 'Otis Redding']\n"
     ]
    },
    {
     "data": {
      "text/plain": [
       "3000"
      ]
     },
     "execution_count": 12,
     "metadata": {},
     "output_type": "execute_result"
    }
   ],
   "source": [
    "artists = []\n",
    "\n",
    "for url_name in url_list:\n",
    "    url = url_name\n",
    "    response = requests.get(url)\n",
    "    soup = BeautifulSoup(response.text, 'html.parser')\n",
    "\n",
    "    for i in range(0, 800,4):\n",
    "    \n",
    "        artist_element = soup.select(\"tr td a\")[i]\n",
    "    \n",
    "        if artist_element:\n",
    "            artist = artist_element.get_text().strip()\n",
    "            artists.append(artist)\n",
    "print(artists)\n",
    "len(artists)"
   ]
  },
  {
   "cell_type": "code",
   "execution_count": 13,
   "id": "ca40c82c",
   "metadata": {},
   "outputs": [
    {
     "name": "stdout",
     "output_type": "stream",
     "text": [
      "['Like a Rolling Stone', \"(I Can't Get No) Satisfaction\", 'Good Vibrations', 'Smells Like Teen Spirit', 'Respect', 'Johnny B. Goode', \"Sittin' on the Dock of the Bay\", 'I Heard It Through the Grapevine', 'Stairway to Heaven', 'Anarchy in the U.K.', 'Louie Louie', 'Be My Baby', 'My Generation', 'The Message', 'Heartbreak Hotel', 'Strawberry Fields Forever', 'You Really Got Me', 'A Day in the Life', 'Love Will Tear Us Apart', \"What's Going On\", 'I Want to Hold Your Hand', 'River Deep Mountain High', 'God Save the Queen', \"You've Lost That Lovin' Feelin'\", 'Born to Run', 'Imagine', \"What'd I Say\", 'Tutti Frutti', 'Billie Jean', 'I Want You Back', 'Mr. Tambourine Man', 'Crazy', 'Light My Fire', 'Sympathy for the Devil', 'London Calling', \"Reach Out (I'll Be There)\", 'Hey Jude', 'Superstition', 'The Tracks of My Tears', \"Jumpin' Jack Flash\", 'Purple Haze', 'Hey Ya!', \"That'll Be the Day\", 'Losing My Religion', \"(We're Gonna) Rock Around the Clock\", 'When Doves Cry', 'Hotel California', 'Layla', 'Bitter Sweet Symphony', 'Every Breath You Take', 'Common People', 'God Only Knows', 'Dancing in the Street', 'Blue Monday', 'Waterloo Sunset', 'Proud Mary', 'Hound Dog', 'Walk on the Wild Side', 'Get Ur Freak On', 'Loser', 'Heroes', 'House of the Rising Sun', \"Let's Stay Together\", \"Whole Lotta Shakin' Goin' On\", 'Unfinished Sympathy', 'Suspicious Minds', 'Stand by Me', 'Bohemian Rhapsody', 'Bridge Over Troubled Water', 'Take Me Out', 'Live Forever', \"That's All Right (Mama)\", 'When a Man Loves a Woman', 'No Woman No Cry', 'Blue Suede Shoes', 'Whole Lotta Love', 'Runaway', 'Maybellene', 'Summertime Blues', 'Good Times', 'All Along the Watchtower', \"Papa's Got a Brand New Bag\", 'Walk This Way', 'Fight the Power', 'Mystery Train', 'Crazy in Love', 'Green Onions', 'Little Red Corvette', 'In the Midnight Hour', \"Sweet Child O' Mine\", 'A Change Is Gonna Come', \"Don't Be Cruel\", 'I Walk the Line', 'One', 'Ghost Town', \"Stayin' Alive\", \"California Dreamin'\", 'Will You Love Me Tomorrow', 'She Loves You', 'Nothing Compares 2 U', 'Brown Eyed Girl', \"For What It's Worth\", 'Maggie May', 'Peggy Sue', 'This Charming Man', 'My Girl', 'Wonderwall', 'Space Oddity', 'Walk On By', 'Get It On (Bang a Gong)', 'Strange Fruit', 'Born Slippy (NUXX)', 'Oh, Pretty Woman', 'Yesterday', 'Fortunate Son', 'Gloria', 'Dancing Queen', \"I'm So Lonesome I Could Cry\", 'Song 2', 'A Whiter Shade of Pale', \"Won't Get Fooled Again\", 'Honky Tonk Women', 'Eight Miles High', 'Great Balls of Fire', 'Be Bop a Lula', 'Family Affair', 'Gimme Shelter', 'Papa Was a Rolling Stone', 'Once in a Lifetime', \"Sign 'O' the Times\", \"Nuthin' But a 'G' Thang\", 'In My Life', 'Sexual Healing', 'Creep', 'Folsom Prison Blues', 'The Rockafeller Skank', 'Subterranean Homesick Blues', 'People Get Ready', 'Only the Lonely', 'Kiss', 'Get Up (I Feel Like Being a) Sex Machine', \"Don't Worry Baby\", 'Stop! In the Name of Love', 'Bye Bye Love', 'I Feel Love', 'Crazy', '(White Man) In Hammersmith Palais', 'Tainted Love', 'Work It', 'Blitzkrieg Bop', 'Shake, Rattle and Roll', 'La Bamba', 'Changes', 'Virginia Plain', \"I'm Waiting for the Man\", 'Help!', 'Jump', 'Brown Sugar', 'Seven Nation Army', 'Penny Lane', 'Why Do Fools Fall in Love', \"Rapper's Delight\", 'This Land Is Your Land', 'Fools Gold', 'Ziggy Stardust', 'Many Rivers to Cross', 'Firestarter', 'Beat It', 'Da Doo Ron Ron', 'My Name Is', 'All I Have to Do Is Dream', 'Cannonball', \"Can't Get You Out of My Head\", 'Thunder Road', 'Wild Thing', 'Bring the Noise', 'Bo Diddley', 'Gold Digger', 'Wichita Lineman', 'Like a Virgin', 'How Soon Is Now?', '1 Thing', 'Paranoid', \"Don't You Want Me\", 'Groove Is in the Heart', 'Heroin', 'Tomorrow Never Knows', 'The Israelites', 'You Send Me', 'Born in the U.S.A.', 'Summer in the City', 'The Weight', 'Ms. Jackson', 'There Is a Light That Never Goes Out', 'Autobahn', \"Gimme Some Lovin'\", 'Paint It, Black', 'Heart of Glass', 'Son of a Preacher Man', 'All the Young Dudes', 'Relax', \"I Can't Explain\", 'Jailhouse Rock', 'Born to Be Wild', 'I Say a Little Prayer', 'Girls and Boys', 'Ever Fallen in Love?', '96 Tears', 'The Twist', 'House of Jealous Lovers', 'Where Did Our Love Go', 'No Scrubs', 'Blueberry Hill', 'Midnight Train to Georgia', 'White Rabbit', 'Voodoo Chile (Slight Return)', 'Blister in the Sun', 'The Sound of Silence', 'Alone Again Or', 'Intergalactic', 'Ace of Spades', 'Stan', 'Sunday Bloody Sunday', 'Toxic', 'Sabotage', 'Cross Road Blues', 'Brass in Pocket', 'Long Tall Sally', 'Ring of Fire', 'Shout (Parts 1 and 2)', \"It's a Man's Man's Man's World\", 'Teenage Riot', 'I Only Have Eyes for You', 'Into the Groove', 'Go Your Own Way', 'Monkey Gone to Heaven', 'Psycho Killer', 'I Got You (I Feel Good)', 'Hey Joe', 'Mannish Boy', 'Try a Little Tenderness', 'Theme from Shaft', 'Paperback Writer', 'Music Sounds Better with You', 'Good Golly Miss Molly', 'Radio Free Europe', 'Roadrunner', 'Enter Sandman', 'In the Still of the Night', 'The Adventures of Grandmaster Flash on the Wheels of Steel', 'Dance to the Music', 'Planet Rock', 'Fight for Your Right (To Party)', 'There She Goes', \"(Don't Fear) The Reaper\", 'I Get Around', 'See Emily Play', 'Teenage Kicks', 'Free Bird', \"Cathy's Clown\", 'Fire and Rain', 'Yakety Yak', \"I Can't Stand the Rain\", '(Your Love Keeps Lifting Me) Higher and Higher', \"Let's Get It On\", \"Your Cheatin' Heart\", 'Losing My Edge', 'My Love', 'There Goes My Baby', 'Like a Prayer', 'Instant Karma (We All Shine On)', 'Tangled Up in Blue', 'Sheena Is a Punkrocker', 'Pretty Vacant', 'Waterfalls', 'Under the Bridge', 'Rumble', 'American Pie', \"Je T'Aime Moi Non Plus\", 'Stand by Your Man', 'Ray of Light', 'Hoochie Coochie Man', 'Ticket to Ride', 'Heart-Shaped Box', 'Get Up, Stand Up', \"Blowin' in the Wind\", 'Fell in Love with a Girl', 'Chain of Fools', 'Rocket 88', 'Thank You (Falettime Be Mice Elf Again)', 'Rock Lobster', 'Sweet Dreams (Are Made of This...)', 'I Wanna Be Your Dog', 'Your Song', 'Crying', 'The Boys of Summer', \"White Lines (Don't Do It)\", 'War', 'Leader of the Pack', 'The Letter', \"I Love Rock'n'roll\", 'Pride (In the Name of Love)', 'Brimful of Asha', \"Block Rockin' Beats\", '1999', 'Debaser', 'Going Underground', \"He's a Rebel\", 'Pump Up the Volume', 'I Put a Spell on You', 'Revolution', 'With or Without You', 'Living for the City', 'The Tears of a Clown', 'More Than a Feeling', 'Bad Moon Rising', 'Who Do You Love', 'Jeremy', 'B. O. B. (Bombs Over Baghdad)', 'Marquee Moon', 'Runaround Sue', 'Georgia on My Mind', 'Doo Wop (That Thing)', 'Please Please Please', 'Walk This Way', \"Don't Stop Till You Get Enough\", 'F*** Tha Police', 'Boogie Chillen', 'The Great Pretender', 'Roxanne', 'Freak Scene', 'What You Know', 'Since U Been Gone', \"It's Too Late\", 'Le Freak', 'Soul Man', 'Fake Plastic Trees', 'Just My Imagination (Running Away with Me)', 'Paranoid Android', 'Yellow', \"It's the End of the World As We Know It (And I Feel Fine)\", 'Round Midnight', 'West End Blues', 'Alison', 'Everyday People', 'Lose Yourself', 'Lust for Life', 'Blue Moon of Kentucky', 'Eleanor Rigby', 'Tired of Being Alone', 'Happiness Is a Warm Gun', 'Step On', 'Gloria', 'Earth Angel (Will You Be Mine)', 'While My Guitar Gently Weeps', 'Window Licker', 'It Takes Two', 'Hate to Say I Told You So', 'Milkshake', 'The Loco-Motion', 'Kick Out the Jams', 'Shot by Both Sides', 'Clint Eastwood', 'Black Hole Sun', 'Me and Bobby McGee', 'Word Up', \"Smokestack Lightnin'\", 'I Am the Walrus', 'I Will Survive', 'Move It', 'Lawdy Miss Clawdy', 'Tennesee', 'Fast Car', 'Rid of Me', 'I Can See for Miles', 'September Gurls', 'Just Like Heaven', \"Livin' on a Prayer\", 'The Thrill Is Gone', 'Over the Rainbow', \"I'm a Believer\", 'Public Image', '99 Problems', \"School's Out\", 'Kashmir', 'You Shook Me All Night Long', 'Because the Night', 'In Da Club', 'Life on Mars', 'Rebel Without a Pause', 'Kansas City', 'Rock and Roll', 'Who Knows Where the Time Goes', 'Sixteen Tons', 'Complete Control', \"I Still Haven't Found What I'm Looking For\", 'Hung Up', 'Heart of Gold', 'Loaded', 'Pressure Drop', 'One Nation Under a Groove', 'You Oughta Know', 'Let It Be', 'Higher Than the Sun', 'White Christmas', 'Down in the Tubestation at Midnight', \"Where It's At\", 'O. P. P.', '1979', 'Mack the Knife', 'Baby One More Time', 'Steady As She Goes', 'Search and Destroy', 'Girls Just Want to Have Fun', 'I Fall to Pieces', 'Summer Babe', 'My Guy', 'Band of Gold', 'Sweet Home Alabama', 'Wake Up Little Susie', \"You Can't Hurry Love\", 'Cars', \"A Hard Day's Night\", 'Paid in Full', 'Uptight', \"I'll Never Get Out of This World Alive\", 'The Harder They Come', 'Sweet Jane', 'Wild Horses', 'Blue Yodel (T for Texas)', 'Take the \"A\" Train', 'God Bless the Child', 'Ode to Billie Joe', 'Running Up That Hill', 'Positively 4th Street', 'Sultans of Swing', 'Cut Your Hair', 'Reeling in the Years', 'Birthday', \"If You Don't Know Me by Now\", 'Purple Rain', 'The Look of Love', 'Wooly Bully', \"Who'll Stop the Rain\", 'West End Girls', 'O Superman', 'The Midnight Special', \"Gangsta's Paradise\", 'Dream On', 'I Shot the Sheriff', 'Young Folks', \"I'm Not in Love\", \"I've Been Loving You Too Long\", 'Feel Good Inc.', 'Lola', 'Sour Times', 'Rock the Casbah', 'Sunshine of Your Love', 'Apache', \"What's Love Got to Do with It\", 'The Boys Are Back in Town', 'Somebody to Love', 'I Wanna Be Sedated', 'Our Lips Are Sealed', 'Buffalo Stance', \"Rockin' in the Free World\", 'The Times They Are A-Changing', \"New Year's Day\", 'Friends in Low Places', 'Young Americans', 'Train in Vain (Stand by Me)', 'I Never Loved a Man the Way I Love You', 'Dazed and Confused', 'Duke of Earl', 'A Love Supreme (Part I: Acknowledgement)', 'You Get What You Give', 'Please Mr. Postman', 'Madame George', 'Lonely Teardrops', 'Hurt', 'Something', 'At Last', 'Riders on the Storm', 'Make Me Smile (Come Up and See Me)', 'Galang', 'Jump Around', 'Roll Over Beethoven', \"This Town Ain't Big Enough for Both of Us\", 'Music', 'Night Moves', 'I Bet You Look Good on the Dancefloor', 'Vogue', 'Love Is the Drug', 'Give It Away', 'No Diggity', 'King Tubby Meets Rockers Uptown', 'All Apologies', 'Another Brick in the Wall, Part 2', 'Push It', 'Tumbling Dice', 'Wolf Like Me', \"Surfin' U.S.A.\", 'Praise You', 'Welcome to the Jungle', 'Back Stabbers', 'Start Me Up', 'Do You Want To', 'Smoke on the Water', 'He Stopped Loving Her Today', \"That's Entertainment\", 'All Right Now', 'Mama Said Knock You Out', 'Do You Really Want to Hurt Me', 'Only Shallow', \"Boys Don't Cry\", 'Time After Time', 'Rave On', 'Whip It', 'What a Wonderful World', 'Danger! High Voltage', 'Ohio', 'Watching the Detectives', \"You've Really Got a Hold on Me\", 'Maps', 'New Rose', 'Last Nite', 'Mmmbop', 'Das Model', 'Goodbye Yellow Brick Road', \"You're So Vain\", \"Don't Dream It's Over\", 'Fairytale of New York', 'Gangsters', 'Highway to Hell', 'Come Together', 'Mrs. Robinson', 'Back to Life', 'The Girl from Ipanema', 'Reet Petite (The Finest Girl You Ever Want to Meet)', 'Never Understand', \"The Sun Ain't Gonna Shine Anymore\", 'Love Train', 'I Will Follow', 'For Tomorrow', 'Back on the Chain Gang', 'True Faith', 'Gigantic', 'Moon River', 'Police and Thieves', 'We Are Family', 'Blank Generation', 'I Fought the Law', 'Killing Me Softly with His Song', 'Starman', 'White Riot', \"Coal Miner's Daughter\", 'Rain', 'Dust My Broom', 'The End', \"You Can't Always Get What You Want\", 'Holidays in the Sun', \"Everybody's Talkin'\", 'Wuthering Heights', 'Norwegian Wood (This Bird Has Flown)', 'Personality Crisis', 'The One I Love', 'Walk Away Renee', 'Mind Playing Tricks on Me', 'Sea Song', 'Setting Sun', \"Ain't No Mountain High Enough\", 'Surrender', 'Needles and Pins', \"Don't Believe the Hype\", 'Shake', 'Supersonic', 'Temptation', \"Groovin'\", 'Smooth', 'Hound Dog', 'In Dreams', 'Friday on My Mind', 'Spanish Harlem', '20th Century Boy', \"He's So Fine\", 'Luka', 'Miss You', 'Got My Mojo Working', 'Super Freak', 'Genius of Love', 'Free Nelson Mandela', 'I Want to Know What Love Is', 'All I Wanna Do', \"It's Like That\", 'Being Boring', \"She's Not There\", 'Children of the Revolution', 'I Know You Got Soul', 'Just Like Honey', \"Ain't That a Shame\", 'Yeah!', 'I Want It That Way', 'How High the Moon', 'Faith', 'Telegram Sam', 'Do You Believe in Magic', 'Walking on Thin Ice', 'Personal Jesus', 'Think', 'Take Me to the River', 'The Breaks', 'Visions of Johanna', 'The Dark End of the Street', 'Over and Over', 'Try Again', 'Hot in Herre', \"I've Got a Woman\", 'Crosstown Traffic', 'Epic', 'Promiscuous', 'King of the Road', 'Me Myself and I', 'Wish You Were Here', 'Honky Tonk', 'Hate It Or Love It', 'Call Me', 'Da Funk', 'Man on the Moon', 'Hungry Like the Wolf', 'Connection', 'Closer', 'The Last Time', \"Free Fallin'\", \"I Can't Stop Loving You\", 'Come On Eileen', 'Since I Left You', 'My Sweet Lord', 'You Are the Sunshine of My Life', 'In the Ghetto', 'Radio Radio', 'Without Me', 'Seether', 'Downhearted Blues', 'Eton Rifles', \"Good Lovin'\", 'Jolene', 'Not Fade Away', 'Crying in the Chapel', 'I Feel for You', 'The Boxer', 'Dark Star', 'Transmission', 'In the Mood', 'Box of Rain', 'Heatwave', 'Move On Up', 'Hey Hey, My My (Into the Black)', 'Where the Streets Have No Name', \"Keep On Movin'\", 'No One Knows', 'Strings of Life', 'She Thinks I Still Care', 'Regulate', 'So What', 'Town Called Malice', 'Crystal', \"Street Fightin' Man\", 'Our House', '(You Make Me Feel Like) A Natural Woman', 'Save the Last Dance for Me', 'Sexy Boy', 'I Saw the Light', 'Famous Blue Raincoat', 'Itchycoo Park', 'Alright', 'Iron Man', 'Buddy Holly', 'Lady Marmalade', 'Rock Your Baby', 'Love Shack', 'Welcome to Jamrock', \"That's the Joint\", 'Back in Black', 'First of the Gang to Die', 'Hollaback Girl', 'California Girls', 'The Humpty Dance', 'A Design for Life', \"Baba O'Riley\", 'Sail Away', 'Mood Indigo', 'Turn! Turn! Turn!', 'Back in the Saddle Again', 'Do You Realize?', \"I'll Be There for You/You're All I Need to Get By\", 'Float On', 'Been Caught Stealing', 'Respect Yourself', \"Bela Lugosi's Dead\", 'Just Like a Woman', 'Straight Outta Compton', 'Arnold Layne', 'Crazy Arms', \"Papa Don't Preach\", \"Drop It Like It's Hot\", 'Telstar', 'Waiting Room', 'Hot Stuff', 'Borderline', 'Black Steel', 'Piece of My Heart', 'Pull Up to the Bumper', 'Where Is My Mind?', 'The Show', 'Desolation Row', 'It Was a Good Day', 'The Night They Drove Old Dixie Down', 'Baby Love', 'God Bless America', 'Come As You Are', 'Rock Island Line', 'Move Your Feet', \"I'm a Man\", 'Sing, Sing, Sing', \"Hold On, I'm Coming\", 'Sister Ray', 'Funkytown', \"You're Gonna Miss Me\", 'Trans-Europa Express', 'Take Five', 'Waterloo', 'Today', 'Rock and Roll', 'God', 'Pacific State', 'Last Train to Clarksville', 'Everyday Is Like Sunday', 'Ignition (Remix)', 'Timeless/Inner City Life', 'Sh-Boom', 'When You Were Young', 'Beautiful Stranger', 'Beautiful Day', 'Chime', 'Black Magic Woman', 'Fever', 'Higher Ground', 'A Teenager in Love', 'Should I Stay or Should I Go', 'Only You (And You Alone)', 'Woo-Hah!! (Got You All in Check)', 'This Is a Low', \"My Lovin'\", \"(I Don't Want to Go to) Chelsea\", 'I Wanna Be Adored', 'Out of Time', \"Ain't No Other Man\", 'Two Tribes', 'Venus as a Boy', 'Hot Fun in the Summertime', 'Shipbuilding', 'Hongkong Garden', 'Kinky Afro', 'A Girl Like You', 'El Paso', 'California Love', 'The Mercy Seat', 'Koko', 'Cum on Feel the Noize', 'Killing in the Name', \"Knockin' on Heaven's Door\", 'Green River', \"Rollin' Stone\", 'Boom Boom', 'With a Little Help from My Friends', 'Sexy Back', 'Dancing in the Dark', 'Moondance', 'Rhapsody in Blue', 'Remember (Walking in the Sand)', 'Fever', 'Ready or Not', 'Pale Blue Eyes', \"Let's Spend the Night Together\", 'Another Girl, Another Planet', 'Geno', 'Fame', 'Donna', 'Down by the Water', 'Me and Giuliani Down the Schoolyard (A True Story)', 'Love Letters', 'Soon', 'Unchained Melody', 'Message in a Bottle', 'What Difference Does It Make?', \"Walk, Don't Run\", 'Inner City Blues (Make Me Wanna Holler)', \"She's Lost Control\", \"Rock'n'roll All Nite\", 'Around the World', 'The Seed 2.0', \"Money (That's What I Want)\", 'Gin and Juice', 'By the Time I Get to Phoenix', 'Birdhouse in Your Soul', 'I Got You Babe', 'John Wayne Gacy, Jr.', 'Cry Me a River', 'Help Me', 'She Drives Me Crazy', 'Jamming', 'Pyramid Song', \"Oliver's Army\", 'We Gotta Get Out of This Place', 'Is She Really Going Out with Him?', 'Lovesick Blues', 'Bette Davis Eyes', \"You Keep Me Hangin' On\", 'I Wonder Why', 'Just What I Needed', 'Helter Skelter', 'All Shook Up', 'Mr Brightside', 'Karma Police', 'The Killing Moon', 'Red Alert', 'Without You', 'Baby I Need Your Loving', 'My Sharona', 'Oh Bondage Up Yours!', 'Mo Money Mo Problems', 'Love to Love You Baby', 'Whole Lotta Rosie', \"Hope There's Someone\", \"Maybe I'm Amazed\", 'Emerge', \"Can't Stand Me Now\", 'Hit the Road, Jack', 'Life During Wartime', 'Blue Moon of Kentucky', 'About a Girl', \"I'm Sorry\", 'Hellhound on My Trail', 'Set Adrift on Memory Bliss', 'Daft Punk Is Playing at My House', 'Wildwood Flower', 'Downtown', \"Let's Make Love and Listen to Death from Above\", 'One More Time', 'Hypnotize', \"Sex and Drugs and Rock'n'roll\", \"(I Can't Get No) Satisfaction\", 'La Vie En Rose', 'Sweet Little Sixteen', 'Alive', 'Atmosphere', \"That's When I Reach for My Revolver\", 'Perfect Day', 'Motorcycle Emptiness', \"The Drugs Don't Work\", 'River Man', 'I Luv You', 'Stupid Girl', \"We've Only Just Begun\", \"One O'Clock Jump\", 'Into the Mystic', 'Tequila', 'Rockit', 'Some Velvet Morning', 'Up on the Roof', 'One Fine Day', 'Rise', 'Sledgehammer', \"The Train Kept A-Rollin'\", 'Something in the Air', 'All Day and All of the Night', \"Ain't No Sunshine\", 'Crimson and Clover', 'Minnie the Moocher', 'Missing (Todd Terry Remix)', 'In My Room', 'The Real Slim Shady', 'Love Is Strange', 'Everybody Hurts', 'Mercy Mercy Me', 'Free Man in Paris', 'I Predict a Riot', 'Atomic Dog', 'Voodoo Ray', 'Middle of the Road', 'At the Hop', \"Call It Stormy Monday (But Tuesday's Just As Bad)\", 'Goodnight Irene', 'On Broadway', 'Bust a Move', 'Longview', 'Flash Light', 'These Boots Are Made for Walking', 'I Will Dare', 'Mr. Tambourine Man', \"You're No Good\", 'Wonderful World', 'You Are My Sunshine', 'Banquet', 'Flat Beat', 'Jet', 'Wabash Cannonball', \"What's the Frequency, Kenneth\", 'Stay', \"Devil's Haircut\", 'The Drowners', 'Material Girl', 'Just the Way You Are', 'And I Was a Boy from School', 'The Rain (Supa Dupa Fly)', 'Song to the Siren', 'The Boy Is Mine', 'Mama Tried', 'Stay with Me', 'Star Dust', 'Money Honey', 'Can the Circle Be Unbroken (Bye and Bye)', 'Holiday in Cambodia', 'Nasty', 'Rapture', 'Body and Soul', 'Under Pressure', 'For Your Precious Love', 'Feel Good Hit of the Summer', 'Ashes to Ashes', 'Animal Nitrate', 'Up the Junction', \"I've Got You Under My Skin\", 'The Only One I Know', 'Stir It Up', 'Drive', 'Shame Shame Shame', 'Echo Beach', 'Addicted to Love', \"Rikki Don't Loose That Number\", 'Damaged Goods', 'Coat of Many Colors', 'Wipeout', 'Devil with a Blue Dress & Good Golly Miss Molly', 'Killing Me Softly', \"Hey Good Lookin'\", 'Wild Thing', 'Rock With You', 'Say My Name', 'In the City', \"Sucker MC's\", \"Fallin'\", 'Rebel Rouser', 'Reasons to Be Cheerful, Part 3', 'Hard to Explain', \"It's Your Thing\", \"(We Don't Need This) Fascist Groove Thang\", 'Jealous Guy', \"It Wasn't God Who Made Honky Tonk Angels\", 'In C', 'Orgasm Addict', 'Wicked Game', 'Heartbeat', 'Tighten Up', 'Tell It Like It Is', 'Aftermath', 'Pepper', 'Burning Down the House', 'Chantilly Lace', 'Jesus Walks', 'Beds Are Burning', 'Then He Kissed Me', 'Breakdown', 'I Will Always Love You', \"Say It Loud - I'm Black and Proud\", 'The Payback', 'We Will Rock You', \"It's Too Soon to Know\", 'Young Blood', 'Celebrity Skin', 'Maybe', 'Bad Girls', 'My Funny Valentine', 'Shop Around', 'Substitute', 'Smiling Faces Sometimes', 'Shook Ones, Pt. 2', 'Last Goodbye', 'Move On Up a Little Higher', 'Rebel Rebel', 'I Want You', \"Ain't Misbehavin'\", 'Sally Gooden', 'Piano Man', 'Panic', 'Justify My Love', 'IZZO (H.O.V.A.)', 'Two Sevens Clash', 'Pump It Up', 'I Want You', 'If I Was Your Girlfriend', 'Cold, Cold Heart', 'Teardrop', 'Lonely Avenue', \"Ball of Confusion (That's What the World Is Today)\", 'Lean on Me', 'Suzanne', 'Rock and Roll Music', 'Rock Box', 'Video Killed the Radio Star', 'Heartbreaker', 'Disco Inferno', 'This Is Hardcore', 'Follow the Leader', 'She Sells Sanctuary', 'Big Yellow Taxi', 'Hounds of Love', \"You've Got a Friend\", 'I Want to Take You Higher', \"Touch Me, I'm Sick\", \"Theme from S'Express\", 'My Doorbell', 'Sunday Morning', \"Just Can't Get Enough\", \"You're Still the One\", 'Smile', 'One Love/People Get Ready', 'Tear the Roof Off the Sucker (Give Up the Funk)', 'The Long and Winding Road', 'Twist and Shout', 'Day Tripper', 'These Days', \"Blowin' in the Wind\", \"That's the Way (I Like It)\", 'Please Please Me', 'Pony Blues', 'My Red Hot Car', 'Kool Thing', 'In the Air Tonight', 'Graceland', 'My Baby Just Cares for Me', 'Swanee', 'Got Your Money', '19th Nervous Breakdown', 'Jim Dandy', 'Nowhere to Run', 'The Kids Are Alright', \"Don't You (Forget About Me)\", 'Head Like a Hole', 'Shake Some Action', 'Angie', 'Little Sister', 'Werewolves of London', 'Some Might Say', 'Chicago', 'How I Could Just Kill a Man', 'Insane in the Brain', 'Making Plans for Nigel', 'Bizarre Love Triangle', 'Reward', 'Stagger Lee', 'Candle in the Wind', 'Tiny Dancer', 'Frankie Teardrop', \"Summer of '69\", 'One of These Nights', 'Maneater', 'Believe', 'Rebellion (Lies)', 'Foggy Mountain Breakdown', 'Caught by the Fuzz', 'Papua New Guinea', 'Rhiannon', 'Holiday', 'The Book of Love', 'Acid Tracks', 'Tubthumping', 'Such Great Heights', 'Dry Your Eyes', \"(What's So Funny 'Bout) Peace Love & Understanding\", 'Bonnie & Clyde', 'Yeah', 'The Rat', 'America', 'Girlfriend in a Coma', '007 (Shanty Town)', 'Rock Your Body', 'Looking for the Perfect Beat', 'Take the Skinheads Bowling', 'Night Train', 'Cissy Strut', 'Running Scared', 'Have You Seen Her', \"You Don't Have to Say You Love Me\", \"It's Alright Ma (I'm Only Bleeding)\", 'Aqualung', 'A-Tisket, A-Tasket', 'We Are the Champions', 'All You Need Is Love', 'Lively Up Yourself', 'When You Were Mine', 'Hey Boy Hey Girl', 'Alphabet Street', 'Welcome to the Terrordome', 'Inbetween Days', 'Working Class Hero', '21st Century Schizoid Man', \"Pretend We're Dead\", 'Come Go with Me', 'Break on Through (To the Other Side)', 'Bring It On Home to Me', 'Los Angeles', 'Superstar', 'The Battle of New Orleans', 'Bohemian Like You', 'Are You Lonesome Tonight?', 'Tower of Song', 'Blue Moon', \"If You've Got the Money (I've Got the Time)\", 'You Made Me Realize', 'Shout', 'Tumbling Tumbleweeds', \"Talkin' All That Jazz\", 'Lithium', 'Quarter to Three', 'Big Fun', 'Brilliant Disguise', 'Foxy Lady', 'American Girl', 'Tears in Heaven', 'Orange Crush', 'I Saw Her Standing There', \"Let's Have a Party\", 'Uptown Top Ranking', 'Across the Universe', 'Shhh/Peaceful', 'Song to the Siren', 'Oh, Happy Day', \"Sorted by E's and Wiss\", 'Photograph', 'People Are Strange', 'Caldonia (Boogie) (What Makes Your Big Head So Hard?)', 'Novocaine for the Soul', 'Psychotic Reaction', 'The Cutter', 'Romeo', 'Money', 'Natural One', 'Cinnamon Girl', 'Unbelievable', 'We Are the World', 'Energy Flash', 'C.R.E.A.M.', \"Grindin'\", 'Digital Love', 'Expecting to Fly', 'Kick Push', 'Weak Become Heroes', 'Pretty in Pink', 'Apply Some Pressure', 'Freak Like Me', 'Oh Well', 'Into My Arms', 'Just a Friend', 'Behind Closed Doors', 'Desperado', 'Sing', 'Manteca', 'Lipstick Vogue', \"Uncle John's Band\", 'Sad Eyed Lady of the Lowlands', 'My Boy Lollipop', 'Bonzo Goes to Bitburg', 'What Do I Get?', 'Sister Morphine', 'Drift Away', 'Sheela Na Gig', 'Mirror in the Bathroom', 'Going to a Go-Go', 'Small Town Boy', 'Juicy', 'They Reminisce Over You', 'Oh What a Nite', 'Regret', 'Take Me to the River', 'Cry', \"You Don't Love Me (No, No, No)\", 'D-I-V-O-R-C-E', \"I Want to Be a Cowboy's Sweetheart\", 'Clean Up Woman', 'Everybody Is a Star', 'Makes No Sense at All', 'Sing It Back', 'Party Fears Two', 'Jane Says', 'Wannabe', 'Tiger Rag', \"I Can't Live Without My Radio\", 'Country Grammar (Hot S**t)', 'Swing Low Sweet Chariot', 'Money', 'Come Pick Me Up', '(You Make me Feel) Mighty Real', 'Get the Party Started', 'Are You That Somebody', 'Sentimental Journey', 'For Your Love', \"I'll Feel a Whole Lot Better\", 'Human Behaviour', \"C'mon Everybody\", 'The Passenger', 'Take on Me', 'Apache', \"I'm Movin' On\", 'Chapel of Love', 'Little Old Log Cabin in the Lane', '(They Long to Be) Close to You', 'Fu-gee-la', 'Suzie-Q', 'Missing You', \"I'll Be Around\", 'Vienna', \"Sally, Go 'Round the Roses\", 'You Trip Me Up', 'Get Off My Cloud', 'Walk Like a Man', 'Pills & Soap', 'What Becomes of the Brokenhearted', 'If You Tolerate This Your Children Will Be Next', 'Pinball Wizard', 'Walking the Floor Over You', 'Oh Girl!', 'Speedo', 'I Melt with You', 'Tramp', 'Hickory Wind', 'Daughter', 'Cry Me a River', 'The Ship Song', 'Vertigo', 'Everlong', 'The Modern Age', 'Stay with Me', 'Master of Puppets', 'Sincerely', 'Fade into You', 'Spoonful', 'Bennie and the Jets', \"If I Didn't Care\", 'I Wonder if I Take You Home', 'Lucille', 'That Lady', 'I Believe in a Thing Called Love', \"Levi Stubb's Tears\", \"Where's Your Head At\", 'Hurricane', 'Suedehead', 'New San Antonio Rose', 'Dreaming of You', 'Pipeline', 'Go West', \"Big Girls Don't Cry\", 'Oye Como Va', 'Tempted', 'Knock on Wood', 'To Be Young, Gifted and Black', 'Enjoy the Silence', 'Down by the River', 'I Can See Clearly Now', 'Up Around the Bend', 'The Scientist', 'Come Clean', 'Sin City', '12:51', 'Mundian to Bach Ké (Beware of the Boys)', 'Refugee', 'Protection', 'Surf City', 'Ballad of a Thin Man', 'Are You Gonna Go My Way', 'St. Louis Blues', 'Crossroads', 'Keep on the Sunny Side', \"Can't Buy Me Love\", \"Don't Look Back in Anger\", 'The Things That I Used to Do', \"Ain't Too Proud to Beg\", \"Don't Speak\", 'Do It Again', 'Let the Music Play', 'Garden Party', 'Love Removal Machine', 'Manic Depression', 'Suite: Judy Blue Eyes', \"This Mess We're In\", 'Satellite of Love', \"Freddie's Dead\", \"Let's Dance\", 'Rez', 'Bastards of Young', 'I Try', 'Welcome to the Black Parade', \"Blue Yodel No. 9 (Standin' on the Corner)\", \"She's Gone\", 'Torn', 'Sam Stone', \"Wouldn't It Be Nice\", 'Flava in Ya Ear', 'Poison Arrow', 'Way to Blue', 'Andalucia', 'Where the Wild Roses Grow', 'Rent', 'I Will Always Love You', 'Oooh, Baby Baby', 'Cornflake Girl', 'It Will Stand', 'Overnight Sensation (Hit Record)', 'Alex Chilton', 'Spirit in the Sky', 'Thriller', 'Some Candy Talking', 'Suburbia', 'The Payoff Mix/Lesson 2/Lesson 3 (Promo EP)', 'Nights in White Satin', 'I Wish It Would Rain', 'Need Your Love So Bad', \"Ramblin' Man\", 'Us and Them', \"Groovejet (If This Ain't Love)\", 'Gett Off', \"Let's Push Things Forward\", 'Tom Dooley', 'Everything Is Everything', 'Smokebelch II', \"All Tomorrow's Parties\", '50 Ways to Leave Your Lover', 'Higher State of Consciousness', 'Cold Turkey', 'I Feel the Earth Move', 'Caught Out There', \"C'mon C'mon\", 'Rosa Parks', 'Paradise City', 'Lucy in the Sky with Diamonds', \"At Home He's a Tourist\", 'Philadelphia Freedom', 'I Want You to Want Me', 'Heartbeat', 'Happy Together', 'Bandages', 'Call Me', '(Just Like) Starting Over', 'Open Up', 'Chop Suey!', \"Let's Go Tripping\", 'Love Potion No. 9', 'Under Me Sleng Teng', 'Can You Feel It', 'Knowing Me Knowing You', \"The Prisoner's Song\", 'Here Comes the Sun', 'On and On', 'Race for the Price', \"Lloyd, I'm Ready to Be Heartbroken\", 'Hard Knock Life', 'Wake Up Everybody', 'Whipping Post', 'Golden Years', 'Memphis, Tennessee', \"Don't Let Me Be Misunderstood\", \"It's All Over Now, Baby Blue\", \"I'm Eighteen\", 'In My Place', 'Up on Cripple Creek', 'DARE', 'Tell Me Something Good', 'And Your Bird Can Sing', 'Mr. Blue Sky', 'Always on My Mind', 'Wall of Death', 'Matchbox Blues', 'Creep', 'Big Eyed Beans from Venus', \"You Ain't Seen Nothin' Yet\", 'Hit Me with Your Rhythm Stick', 'Moonlight Serenade', 'One for My Baby', 'The Winner Takes It All', \"I'll Take You There\", 'Jocko Homo', 'Angels', 'Big Time Sensuality', 'S.O.S.', 'Big Boss Man', 'Goodnight Irene', 'Aquarius - Let the Sun Shine In (Medley)', 'Hey Ladies', 'No Quarter', 'Sweet Jane (Live)', \"I Can't Help Myself\", 'Family Affair', 'Willie and the Hand Jive', 'Devil Got My Woman', 'The Wanderer', 'The River', \"Walkin' After Midnight\", 'Have You Ever Seen the Rain', 'Take Your Mama', 'A Boy Named Sue', 'American Idiot', 'Rank Strangers', \"Shakin' All Over\", \"U Can't Touch This\", 'Juke', \"It's Only Make Believe\", 'If I Ruled the World', 'Rendez-Vu', 'Dooms Night', 'Boogie Woogie Bugle Boy', \"Cruisin'\", \"Masterblaster (Jammin')\", 'Lost Someone', 'In-A-Gadda-Da-Vida', 'Tennessee Waltz', 'Downtown Train', 'Do Anything You Wanna Do', 'Redemption Song', 'Do You Love Me', 'Being Boiled', \"I Can't Make You Love Me\", 'Miss Misery', 'Detroit Rock City', 'With a Little Help from My Friends', 'Always Late (with Your Kisses)', 'Pull Shapes', 'Sound and Vision', 'What Time Is Love?', 'A Message to You Rudy', 'Mr Sandman', 'I Am the Resurrection', 'White Lightning', \"Papa's Got a Brand New Pigbag\", 'Night Nurse', \"Passin' Me By\", 'Love in Vain', 'April in Paris', 'Svefn-G-Englar', 'Electric Avenue', 'Jump', 'Bang', 'This Old Heart of Mine', \"It's Only Rock'n'Roll (But I Like It)\", 'Bullet with Butterfly Wings', 'Sea of Love', 'Under the Boardwalk', 'Goddess on a Hiway', 'La-Di-Da-Di', 'Detroit City', 'One Way or Another', 'Bootylicious', 'Pink Moon', 'Ceremony', 'Black Dog', 'She Said She Said', 'Nag Nag Nag', 'Move It on Over', 'Try Me', 'Express Yourself', 'Uncertain Smile', 'You Spin Me Round (Like a Record)', 'Rock the Bells', 'Stormy Weather', \"Ain't That Enough\", 'Never Let Me Down Again', \"Whatever Happened to My Rock'n'roll? (Punk Song)\", 'Sing Me Back Home', \"Death Valley '69\", 'Innocent when You Dream', 'Blind Willie McTell', 'Mad World', \"Gypsy Woman (She's Homeless)\", 'Need You Tonight', 'Atomic', 'A Good Year for the Roses', 'World in Motion', \"Everybody's Talkin'\", 'Sun City', 'Rebel Girl', 'All the Things She Said', 'Risingson', 'Fall on Me', 'The Entertainer', 'Walking on the Sun', \"C'mon Ride It (The Train)\", 'Rip It Up', \"Tonight's the Night\", 'Comfortably Numb', \"Flying Saucer's Rock'n'Roll\", 'Love Me Tender', 'I Feel Free', 'Pictures of Lily', 'Never Can Say Goodbye', 'Connected', 'The Whole of the Moon', 'Protect Ya Neck', 'All Along the Watchtower', 'Monkey Wrench', \"Gimme All Your Lovin'\", 'So. Central Rain', 'Last Night a DJ Saved My Life', 'Mama, He Treats Your Daughter Mean', 'Wild Is the Wind', 'Crying in the Chapel', 'Love Action', 'Oops (Oh My)', 'Comfortably Numb', \"He'll Have to Go\", 'WFL (Wrote for Luck)', 'Helpless', 'Angel of Death', 'Take Me Home, Country Roads', 'Young Hearts Run Free', \"Got 'Til It's Gone\", \"Can't Truss It\", 'Games Without Frontiers', 'If You Could Read My Mind', 'There Stands the Glass', 'Shotgun', 'Independent Women Part 1', 'In a Sentimental Mood', 'Go All the Way', 'Give Him a Great Big Kiss', 'Back in the USA', 'Shack Up', '4:33', 'Only Love Can Break Your Heart', 'One Step Beyond', \"I'm Stone in Love with You\", 'Shine on You Crazy Diamond', 'Return of the Grievous Angel', 'Play That Funky Music', 'Pancho and Lefty', 'Higher Love', 'Work with Me Annie', 'I Left My Heart in San Francisco', 'After the Goldrush', 'El Scorcho', 'Good Life', 'Crash', \"Ridin' (Dirty)\", 'Kowalski', \"Ain't That Peculiar\", 'Check the Rhime', 'Pick Up the Pieces', 'I Love Music', 'I Am Woman', 'Cupid', 'Biko', 'Mona Lisa', 'When You Wish Upon a Star', 'Hello Mary Lou', 'Move Your Body (House Music Anthem)', \"Janie's Got a Gun\", 'Get a Job', 'Manic Monday', 'My Adidas', 'Standing in the Shadows of Love', 'Death Disco', \"Searchin'\", 'This Is a Call', 'Mother', 'Until You Come Back to Me', 'U Got the Look', 'Shit, Damn, Motherf*cker', 'All the Small Things', 'Late for the Sky', 'Sister Havana', 'What a Fool Believes', 'Let Me Blow Ya Mind', \"It's the Same Old Song\", 'Breathe', \"I'm Only Sleeping\", 'Little Fluffy Clouds', '5:15', \"Pushin' Too Hard\", 'Ne Me Quitte Pas', 'Dream Baby Dream', 'Love Me Do', 'Cult of Personality', 'Whiskey in the Jar', 'Bachelorette', 'Staring at the Sun', 'Pop Muzik', 'I Shot the Sheriff', 'Legalize It', 'We Can Work It Out', 'Love Hangover', 'Stay Fly', 'Raspberry Beret', 'Y.M.C.A.', 'Just Like Me', 'The Bomb!', \"Why Can't We Live Together\", 'Statesboro Blues', 'Cocaine in My Brain', 'Idiot Wind', 'Dowutchulike', 'Release the Bats', 'Land of 1000 Dances', 'Get Low', 'Walking on the Moon', 'Rocker', \"Big Pimpin'\", 'There Goes the Fear', 'Un Poco Loco', \"Can't Get Enough\", 'Tipitina', 'Another One Bites the Dust', \"Can't Help Falling in Love\", 'Birdland', \"It's a Sin\", 'Everyday', 'Scenario', '911 Is a Joke', \"She's Got You\", 'Shame', 'We Got the Beat', 'Cream', 'One Armed Scissor', 'A Stroke of Genius', 'High and Dry', 'Lose Control', 'Live and Let Die', 'Passionate Kisses', 'Jack & Diane', 'Heroes and Villains', 'Hard to Beat', 'Rocks', 'This Is Not a Love Song', 'Badge', 'Interstellar Overdrive', 'My Favourite Things', 'I Was Made to Love Her', 'Lemon', 'Waiting in Vain', 'Jessica', 'I Could Never Take the Place of Your Man', 'Running On Empty', 'Happy Days Are Here Again', 'My Prerogative', 'No Surprises', 'Dear God', \"A Roller Skating Jam Named 'Saturdays'\", 'Rocket Man', 'Imitation of Life', \"You Haven't Done Nothin'\", 'Ball and Chain', 'Buffalo Gals', 'Solsbury Hill', 'Never Say Never', 'I Can Never Go Home Anymore', 'Spinning Wheel', 'Still Not a Player', 'The Choice Is Yours (Revisited)', 'Senses Working Overtime', 'Ghosts', 'Begin the Beguine', 'Country House', 'You Dropped a Bomb on Me', 'Prisoner of Love', 'Lost Highway', \"Let's Go Crazy\", 'Cold Sweat', \"You're So Fine\", 'Hello, I Love You', 'What I Got', 'Sweet Thing', 'Hungry Heart', 'Mickey', 'Waltz #2', 'James Bond Theme', 'We Love You', 'Hide Away', 'You Gots to Chill', 'Rudolph the Red Nosed Reindeer', 'Whatta Man', 'Ring the Alarm', 'Fun Fun Fun', 'The Fly', 'Teen Angst', 'Turning Japanese', 'A New England', 'Fix Up, Look Sharp', \"It Don't Come Easy\", 'Standing in the Way of Control', \"Ain't Nothin' Goin' on But the Rent\", 'Venus in Furs', \"I'm Coming Out\", \"It's My Party\", 'French Kiss', 'Feed the Tree', 'Wild Night', 'To Love Somebody', 'In a Big Country', 'Up the Bracket', 'In the Morning', 'Unbelievable', 'Champagne Supernova', 'Lake of Fire', 'Galveston', 'Stand!', '54 46 (Was My Number)', 'Funky Cold Medina', 'Everybody Needs Somebody to Love', 'Weather with You', \"Movin' On Up\", 'Ana Ng', 'Get Back', 'Clocks', 'Are Friends Electric?', 'Can I Kick It?', \"Surfin' Bird\", \"Gone 'Til November\", 'Help Me Make It Through the Night', 'Mama Weer All Crazee Now', 'What a Waster', \"Say It Ain't So\", 'Alternative Ulster', 'Live to Tell', 'Fuck and Run', \"It's Too Late\", 'Beast of Burden', 'Sidewalking', 'Sweet Soul Music', 'Bonita Applebum', 'Here I Come', 'Pour Some Sugar on Me', 'Ambulance Blues', 'See My Friend', 'Everything I Own', 'Put Your Hand Where My Eyes Can See', 'Don\\x92t Come Home A\\x92Drinkin\\x92 (with Lovin\\x92 on Your Mind)', 'Into the Groove(y)', \"Didn't I (Blow Your Mind This Time)\", \"Goin' Back to Cali\", 'Bucky Done Gun', 'Little Johnny Jewel', 'She Is Beyond Good and Evil', \"Puttin' on the Ritz\", 'Help Me', 'Bigmouth Strikes Again', 'Through the Wire', 'Wilmot', 'Crosseyed and Painless', \"Do They Know It's Christmas?\", 'Pennies from Heaven', 'Black and Tan Fantasy', 'People Who Died', 'Strange Town', 'Nowhere Man', \"Takin' Care of Business\", 'Girlfriend', 'Bring the Pain', 'The Dance', 'The Joker', \"Top Billin'\", 'Witness (One Hope)', 'Rose Garden', 'Eye Know', 'It Had to Be You', 'Once around the Block', 'At My Front Door', '(Ghost) Riders in the Sky (A Cowboy Legend)', 'Miss World', 'Jam On It', 'The Wind Cries Mary', \"D'You Know What I Mean\", \"I Can't Go for That (No Can Do)\", 'The Future', 'Red Hot', 'Do Right Woman - Do Right Man', 'Somebody Told Me', 'Dedicated to the One I Love', 'Albatross', 'Hot Pants (She Got to Use What She Got, To Get What She Wants)', 'Sexy MF', 'Dy-na-mi-tee', 'Ooh Poo Pah Do', 'Beau Mot Plage', 'Constant Craving', 'Love Song', 'Here, There and Everywhere', 'Mississippi', 'Handful of Keys', '1969', 'The Private Psychedelic Reel', 'You Wear It Well', 'Cantaloop', 'Brown Sugar', 'Fantastic Voyage', 'My Heart Will Go On', 'Blue Monday', 'Fit But You Know It', 'Sabbath Bloody Sabbath', 'Galvanize', \"Black Is the Colour of My True Love's Hair\", \"Little Darlin'\", 'Hats Off to Larry', 'Save It for Later', \"Tom's Diner\", 'Lazy Sunday', 'Diminuendo and Crescendo in Blue', 'My Ever Changing Moods', \"Tonight's the Night\", 'Love and Happiness', 'Straight to Hell', 'New Slang', 'All Night Long', 'Burning Love', 'Is That All There Is?', \"Since I've Been Loving You\", 'Your Woman', 'Digeridoo', 'Bachelor Kisses', 'Iris', \"I Ain't Marchin' Anymore\", 'Cortez the Killer', 'Good Riddance (Time of Your Life)', 'Disarm', 'Born Under a Bad Sign', 'More Than This', 'Not If You Were the Last Junkie on Earth', 'Slow Hands', \"Nobody's Fault But My Own\", 'Come Out and Play', 'Stray Cat Blues', 'Jingling Baby (Remixed and Still Jingling)', 'L.A. Woman', \"(I'm) Stranded\", 'What the World Needs Now Is Love', 'Pink Houses', 'Little Star', 'Stuck in the Middle with You', 'They Want EFX', 'Metal Mickey', 'Under the Milky Way', 'Night Train', 'Strangers in the Night', 'The Boiler', 'By the Way', 'Yes', 'You Got Me', 'Where Are You Baby?', 'I Need Love', 'Dreaming', 'I Fought the Law', 'Pulp Fiction', 'In Your Eyes', \"The Man Don't Give a Fuck\", \"Makin' Whopee\", 'White Light White Heat', \"Heaven Knows I'm Miserable Now\", 'Highway 61 Revisited', 'On the Other Hand', 'Sunny Afternoon', 'Complicated', 'I Want to See the Bright Lights Tonight', 'Hello Walls', 'The Love I Lost', 'Justified and Ancient', 'Upside Down', 'Walk Right Back', 'The Gambler', 'The Devil Went Down to Georgia', 'Could You Be Loved', \"I Don't Feel Like Dancin'\", 'Karma Chameleon', 'Formed a Band', 'The Pill', \"Friday, I'm in Love\", \"Runnin' with the Devil\", 'Not Dark Yet', 'South Bronx', 'If I Were a Carpenter', 'Watermelon Man', \"U Don't Know Me\", 'People Got to Be Free', 'She Bangs the Drum', \"Don't Let Me Down\", 'Dancing Barefoot', 'Juxtaposed with You', \"I'm Still in Love with You\", 'Sixty Minute Man', 'Sweet Dreams (Of You)', 'By the Time I Get to Phoenix', 'Crazy On You', 'Come Together', 'This Masquerade', 'Thanks for the Memory', 'Misirlou', 'Roxanne, Roxanne', 'Too Drunk to Fuck', 'Carnival', 'The Funeral', 'Eight Miles High', 'Promised You a Miracle', 'Glory Box', 'I Loves You, Porgy', 'Closing Time', 'This Corrosion', 'Shimmy Shimmy Ya', 'Desapariciones', 'LDN', 'Only the Strong Survive', 'Frontier Psychiatrist', \"Don't Play That Song\", 'Matthew & Son', \"Professional Widow (Armand's Star Trunkin' Funk Mix)\", 'Trapped in the Closet', 'Walking to New Orleans', 'We the People Who Are Darker Than Blue', 'Lost in the Supermarket', 'Re-Rewind (The Crowd Say Bo Selecta)', '(Get Your Kicks On) Route 66', 'I Second That Emotion', 'The Box', 'I Ran (So Far Away)', 'Sexx Laws', \"I'm a King Bee\", 'Play with Fire', 'Army of Me', 'Cowgirl', 'A Case of You', 'Shapes of Things', 'Irreplaceable', 'Jesus Christ Pose', 'Nature Boy', 'Tender', 'Like a Hurricane', 'Wonderful Tonight', 'Superfly', 'Ping Pong', 'Bye Bye Blackbird', 'Piss Factory', 'The Robots', 'Take My Hand, Precious Lord', 'I Got You', 'Anthrax', 'One', 'Night and Day', 'Made of Stone', 'Girl from Mars', 'Car Wheels on a Gravel Road', 'Turn On Your Love Light', 'Teen Angel', 'Desire', \"That's How Strong My Love Is\", 'Hand in Glove', 'Season of the Witch', 'In Bloom', 'The Glamorous Life', 'Ca Plane Pour Moi', 'Nightshift', 'Stranded in the Jungle', 'One', \"Don't Make Me Over\", 'A Pair of Brown Eyes', 'This Is How It Feels', 'Out in the Streets', 'Ordinary World', 'Cigarettes and Alcohol', \"Cruiser's Creek\", 'Blockbuster', 'Fingertips', 'Totally Wired', 'For Lovers', 'Basket Case', 'Sexuality', 'Dedicated to the One I Love', 'The Lonesome Death of Hattie Carroll', 'La La Means I Love You', 'Owner of a Lonely Heart', 'Smoke Gets in Your Eyes', \"Life's What You Make It\", 'Sweet Emotion', 'My Sister', 'Black, Brown and Beige', 'Rio', '14 Zero Zero', 'Running the World', \"Still Tippin'\", 'A Song for the Lovers', 'Eight Days a Week', 'Go', 'Left to My Own Devices', 'This Is the Day', 'Birth School Work Death', \"You've Got to Hide Your Love Away\", 'Alone Again, Naturally', 'Rebirth of Slick (Cool Like Dat)', 'Further Up the Road', 'Low Rider', 'Let the Good Times Roll', 'Anchorage', 'Tea for Two', 'Solo Flight', 'Gypsy Woman', 'Are You Experienced?', 'Start!', 'The Love You Save', 'Insensatez', 'Femme Fatale', 'Bring the Noise', \"Driftin' Blues\", 'Get Busy', 'She Works Hard for the Money', 'Abraham, Martin and John', 'Money for Nothing', 'La Bamba', 'Walk Idiot Walk', 'Dry the Rain', 'Little Wing', \"Livin' La Vida Loca\", 'Bus Stop', 'The Crystal Lake', 'A Forest', 'Hallelujah', 'Hot Burrito #1', 'Mustt Mustt', 'Twin Peaks Theme', 'Human Fly', 'Down Under', 'Slave to the Rhythm', 'Cosmic Slop', 'Warm Leatherette', 'So Alive', 'When Irish Eyes Are Smiling', \"Keep a Knockin'\", 'Only Happy When It Rains', 'People Everyday', 'Everybody Wants to Rule the World', 'Vietnam', \"Frontin'\", 'Hippy Hippy Shake', \"Stacy's Mom\", 'Night Fever', \"So You Want to Be a Rock'n'Roll Star\", 'Theme from \"A Summer Place\"', 'Seven Year Ache', 'Stay Together', 'Beetlebum', 'Cry to Me', 'Lullaby', 'Is This Love', 'Road to Nowhere', 'Twist and Shout', 'Lowdown', 'Supernova', 'Damn, I Wish I Was Your Lover', \"It's Gonna Work Out Fine\", 'Irish Blood English Heart', 'Give Peace a Chance', 'In the Trees', 'If You Want Me to Stay', 'Doll Parts', '7 Seconds', 'Heartbeats', 'Happy', 'Crazy for You', 'Touch of Grey', 'Highway Star', \"Slippin' Into Darkness\", 'Act Naturally', 'Careless Whisper', 'Reverend Black Grape', 'Brooklyn Zoo', 'Corcovado', 'Sit Down', 'Party Lights', 'Brown Eyed Handsome Man', 'American Woman', 'No Expectations', \"A Hard Rain's Gonna Fall\", 'Soul Makossa', 'Jesus, Etc.', 'Astounded', 'Tusk', 'Human', 'Lips Like Sugar', 'Survivor', 'Deep Cover', 'The Wind', \"Can't Be Sure\", 'The Queen Is Dead', 'Zombie', \"My Best Friend's Girl\", 'Ex-Factor', 'Johnny Come Home', \"Ain't No Stoppin' Us Now\", 'Paper Doll', 'Caroline, No', 'The Sweetest Girl', 'Total Eclipse of the Heart', 'April Skies', 'Funky Drummer', 'Eple', 'Crash into Me', 'I Still Miss Someone', 'The Perfect Kiss', 'Autumn Sweater', 'Black Steel in the Hour of Chaos', 'Deceptacon', 'The Promised Land', 'Dreamlover', 'Rivers of Babylon', 'Me & You', 'Pagan Poetry', 'Only Love Can Break Your Heart', 'White Wedding', 'Spill the Wine', \"Don't Know Why\", \"Don't Stop Believin'\", 'Girls on Film', \"Do You Remember Rock'n'Roll Radio\", 'The Three Bells', 'After Midnight', 'The Greatest', 'Everybody Everybody', 'Promised Land', 'I Turn My Camera On', \"I Can't Be Satisfied\", 'Silent Shout', 'We Need a Resolution', 'Frozen', 'Bossy', 'King Porter Stomp', 'Soul on Fire', 'Jazz Thing', 'The Way We Get By', 'Space Invaders Are Smoking Grass', \"My Boyfriend's Back\", 'Highly Evolved', 'Midnight in a Perfect World', 'The Lost Art of Keeping a Secret', 'So Long Marianne', 'Boogie Wonderland', 'Help Me, Rhonda', \"Don't Think Twice, It's All Right\", 'How Will I Know', 'Come and Get It', 'So weit wie noch nie', 'S.O.S.', \"Wanna Be Startin' Something\", 'Please Send Me Someone to Love', 'Santa Monica', 'My Favourite Game', 'Up With People', 'Steal My Sunshine', 'Mr. Big Stuff', 'My True Story', 'TV Party', 'Something to Talk About', 'Right Here Right Now', 'Django', 'Insomnia', 'All Around the World', \"I'm Walkin'\", 'Shake Your Rump', 'See That My Grave Is Kept Clean', 'Shine On', 'Blue Eyes Crying in the Rain', \"Baby, Let's Play House\", 'PDA', 'Some of These Days', 'The Hidden Camera', 'Love in Vain', 'Walking on Sunshine', \"It's Not Right, But It's Okay\", 'Another Saturday Night', 'Xpander', 'Lester Leaps In', 'Bird Dog', \"I'd Rather Go Blind\", \"We're an American Band\", 'Be Mine', 'Peter Piper', 'My Way', 'Mule Skinner Blues', 'Macarthur Park', \"I'm Not a Juvenile Delinquent\", 'The Sky Is Crying', 'Take It Easy', 'Get Out of My Life Woman', 'Wide Open Spaces', 'The Day the World Turned Day-Glo', 'One Mint Julep', 'Northern Lites', 'Requiem', 'Whispering', 'Eve of Destruction', 'Little Red Rooster', 'Evil', 'Real Love', 'Suffragette City', 'Can I Have It Like That', \"It's Not Unusual\", 'When Will I See You Again', 'Fool to Cry', 'Didi', \"Ruby, Don't Take Your Love to Town\", 'Malibu', \"Since I Don't Have You\", 'Gallows Pole', \"The King of Rock 'n' Roll\", 'Almost Grown', 'The Things We Do for Love', 'Lies', 'Cool Water', 'Straight Edge', 'Guns of Navarone', 'Rescue', \"Bang Zoom (Let's Go Go)\", 'Small Town', 'Take Me Back to Tulsa', 'Television - The Drug of the Nation', 'Go Now', 'Swastika Eyes', 'Fly Like an Eagle', \"I'll Be There\", \"One's on the Way\", 'Dear Mr. Fantasy', 'Where Is the Love', 'Stop Your Sobbing', 'Lovesick Blues', 'Pledging My Love', 'Undone - The Sweeter Song', 'Sweet Home Chicago', 'Make the World Go Away', 'Sherry', 'Mustang Sally', 'Born on the Bayou', 'Rise Above', 'Mind Your Own Business', 'Can I Get a Witness', 'The Needle and the Damage Done', 'Killer', \"Where's the Party\", 'Hazey Jane II', 'Trash', 'Charlotte Sometimes', 'Ambition', 'Matinee', 'Iko Iko', 'Edge of Seventeen', \"Chuck E's in Love\", 'Stutter', 'Honeysuckle Rose', 'When Something Is Wrong With My Baby', 'E-Bow the Letter', 'Stay (I Miss You)', 'Paradise By the Dashboard Light', \"Nobody Knows When You're Down and Out\", 'Pictures of You', \"Keep Searchin'\", 'Drowning in the Sea of Love', 'Joy to the World', 'Sea Cruise', 'Wake Up, Boo!', \"You've Got a Friend\", 'Bills, Bills, Bills', 'God Give Me Strength', 'Controversy', 'Pure Shores', 'Are You Gonna Be My Girl', 'Jeepster', '100%', 'Celebration', 'Come Sunday', 'Terraplane Blues', \"Rockin' Pneumonia & the Boogie Woogie Flu\", 'The \"In\" Crowd', 'Patches', 'Gold Lion', \"Daddy's Home\", 'Fire', 'Crazy Blues', 'Super Bon Bon', 'The Coo Coo Bird', 'See See Rider Blues', 'In a Mist', \"Pinetop's Boogie Woogie\", \"I'm Getting Sentimental Over You\", \"I Can't Get Started\", 'Flying Home', 'Safe from Harm', 'Lapdance', 'This Train', 'Chemical Beats', '99 Luftballons', 'Dirty Water', 'Reconsider Baby', 'Singing the Blues', \"If I Can't Change Your Mind\", 'Gabriel', 'I Know What I Like (In Your Wardrobe)', 'You Can Call Me Al', 'Oh, Carolina', 'DWYCK', 'Stand Up Tall', 'Hold Me Now', 'Tribulations', 'Nuages', 'Masters of War', 'Get Free', \"It's All Over Now\", \"I'm So Tired\", 'Keep My Skillet Good and Greasy', 'Don\\x92t Let Your Deal Go Down', 'Pan American Blues', 'Buddy', \"(I'm a) Roadrunner\", 'Tour De France', 'Cry Baby', 'Kerosene', 'Give Me Just a Little More Time', 'Hello Dolly!', 'Dirty Blvd', 'Here I Go Again', 'Brick House', 'Do You Want to Dance', 'Bawitdaba', \"Pistol Packin' Mama\", 'Unpretty', 'Will the Wolf Survive', 'Back for Good', 'Girl', 'Come on in My Kitchen', 'September Song', 'Criminal', 'In the Jailhouse Now', 'War in a Babylon', 'If I Could Build My Whole World Around You', \"You Don't Own Me\", 'The Sun Rising', 'Crazy', 'Hallelujah, I Love Her So', \"I'm an Adult Now\", 'Island in the Sun', 'Standing Outside a Broken Phone Booth with Money in My Hand', \"Surf's Up\", 'White Room', \"Don't You Just Know It\", 'Lucky', 'There There', 'Why Does My Heart Feel So Bad?', 'Fuck Forever', 'Slow Jamz', 'Hotel Yorba', 'Smooth Operator', 'What Have You Done for Me Lately', 'When I Think of You', 'Get Ready', 'Plastic Dreams', 'Never Ever', 'The Koln Concert Part I', 'All Around the World', 'Cars with the Boom', \"Jive Talkin'\", 'The Wild Ones', 'Eighties', 'Church of the Poison Mind', 'Stranger in Town', 'Baby What You Want Me to Do', 'Lonely Weekends', 'The Good Life', 'Stand and Deliver', 'Weekender', 'Breakdown', \"(Don't Worry) If There's a Hell Below, We're All Going to Go\", 'Tom Sawyer', 'Good Morning (Little) School Girl', 'Mis-Shapes', 'Flagpole Sitta', 'Make It Easy on Yourself', 'Beat Dis', \"Ain't Nobody\", 'Rocks Off', 'Sick of Myself', 'I Feel Fine', 'Long Hot Summer', \"Da Ya Think I'm Sexy\", 'All You Good Good People', 'Return to Sender', 'Remmidemmi (Yippie Yippie Yeah)', 'Misty', 'Mysterious Ways', 'Cindy Tells Me', 'Pursuance/Part 4 - Psalm', 'Bristol Stomp', 'Fidelity', 'Boulevard of Broken Dreams', 'I Shall Be Released', 'Polk Salad Annie', 'Angel', 'Too Much Too Young', 'No Sell Out', 'Star Spangled Banner', \"Love's Gonna Get 'Cha (Material Love)\", 'She Blinded Me with Science', 'Track C - Group Dancers', \"Ain't Talkin' 'Bout Love\", 'Falling', 'Dead End Street', 'Saturday Night', 'Personality', 'Boogie-On Reggae Woman', \"Don't It Make You Want to Go Home\", 'King of the Beats', 'Country Blues', 'In the Summertime', 'Sock It to Me', \"Don't Worry Be Happy\", 'Where Did You Sleep Last Night?', 'Feel So Good', 'Glory Days', 'Dirty Deeds Done Dirt Cheap', 'Mr. Jones', 'The Lion Sleeps Tonight', 'Love My Way', 'The Bridge Is Over', \"Don't Fence Me In\", 'Moments in Love', 'I Want Candy', \"The Shoop Shoop Song (It's in His Kiss)\", 'On the Road Again', 'Only You', \"Sucker D.J.'s\", 'House of Fun', 'Push the Button', 'Poison', '(The Night Time Is) The Right Time', 'Mr. Loverman', 'So Much in Love', 'The Stroll', 'The National Anthem', 'Bad Luck', 'Papa-Oom-Mow-Mow', 'Hi-Heel Sneakers', 'Where Were You?', 'Horizons', 'Obstacle 1', 'Hurt', 'La Ritournelle', \"It's a Shame\", 'Ornithology', 'Cruel to Be Kind', 'Star Sign', 'The Last Time I Saw Richard', 'Back Door Man', 'Baby, I Love You', 'Tom Courtenay', 'A Night in Tunisia', 'Tropicalia', 'Mother-in-Law', 'Always on My Mind', 'Bring on the Dancing Horses', 'Chances Are', 'Karmacoma', 'Legs', 'Sugar, Sugar', 'Dreams', 'My Definition of a Boombastic Jazz Style', 'Mean Old World', 'Thirteen', 'Beautiful', 'Home Again', 'Beat Surrender', 'Sweet Caroline', \"What's My Age Again?\", 'Time', 'Christmas (Baby Please Come Home)', 'Mad About the Boy', 'Baker Street', 'Tattva', 'Louie Louie', \"Baby's on Fire\", 'Neat Neat Neat', 'A Fine Fine Boy', 'The Wild Side of Life', 'Pure Morning', 'No Particular Place to Go', 'Kids in America', \"He's Sure the Boy I Love\", 'I Get Around', 'Going Out', 'Hanky Panky', 'Rag Doll', 'Smack My Bitch Up', \"I Don't Like Mondays\", 'Best of My Love', 'Whole Wide World', 'No Rain', 'Time (Clock of the Heart)', 'Talk of the Town', 'My Way', 'Kodachrome', \"Tonight's the Night\", 'The Cattle Call', 'Love Vigilantes', 'The First Time Ever I Saw Your Face', 'Roam', 'I Believe I Can Fly', \"That's the Way Love Goes\", 'Ladies First', \"Runnin'\", \"Willin'\", 'Wamp Wamp (What It Do)', 'Boombastic', 'Down River', 'When I Come Around', 'Tears Are Not Enough', \"Slippin' and Slidin'\", \"So What'cha Want\", 'Memo from Turner', 'Tears on My Pillow', 'Manchild', 'Boops (Here to Go)', 'Hickory Wind', \"Stack O' Lee Blues\", 'Walk On By', 'The Bells', \"Singin' the Blues\", 'Fashion', 'Walking in the Rain', 'Queer', 'My Man (From Ziegfield Follies of 1921)', 'Der Mussolini', 'Runaway Train', 'Take Your Time (Do It Right)', 'Stormy Weather', 'Time Is on My Side', 'Dark Was the Night, Cold Was the Ground', \"Baby Please Don't Go\", 'Murder She Wrote', 'Love Wars', 'Worried Life Blues', 'Toue les garcons et les filles', 'Kid', 'Express Yourself', 'St. Thomas', 'Out of Control', 'Fill Me In', 'Look What You Done for Me', 'Whatever', 'Gay Bar', \"Chant No. 1 (We Don't Need This Pressure On)\", 'Baby Got Back', 'Swinging on a Star', 'A Fool in Love', 'Wang Dang Doodle', 'Heart of Stone', 'When Your Lover Has Gone', 'The Christmas Song', 'Situation', 'My My, Hey Hey (Out of the Blue)', 'Eric B. Is President', 'P.S.K. (What Does It Mean?)', \"It's All in the Game\", 'Killer Queen', 'Fight Test', \"A Sailor's Life\", 'The End of the World', 'Munich', 'Three Girl Rumba', 'Wake the Town', 'We Belong Together', 'Would I Lie to You', 'Close to Me', 'Maggot Brain', 'When the Sun Goes Down', \"It's the New Style\", 'Where Have All the Flowers Gone', 'Parklife', 'We Shall Overcome', 'Eagle Rock', 'Bernadette', 'Big Decision', 'Little Latin Lupe Lu', 'Respect', 'Six Days on the Road', 'Solid Air', \"Let's Go to Bed\", 'Pass That Dutch', 'Letter from an Occupant', 'The Boy with the Thorn in His Side', 'Getting Away with It', 'Lazy', '3 A.M. Eternal', 'Oops!\\x85I Did It Again', 'Tunnel of Love', 'Genie in a Bottle', \"Could It Be I'm Falling in Love\", 'New Kid in Town', 'Playground Love', 'Tears of Rage', 'Little Maggie', 'Bouquet of Roses', \"Runnin'\", 'Ruby Tuesday', 'California Uber Alles', 'Spoonman', 'Honky Tonk Man', 'Hey! Baby', 'Trick Me', 'Homosapien', \"It's a Long Way to the Top (If You Wanna Rock and Roll)\", 'Go On Girl', 'Desafinado', 'Dream Lover', 'Pleasant Valley Sunday', \"Travelin' Band\", \"Don't Leave Me This Way\", \"If They Move, Kill 'Em\", 'Crocodile Rock', \"Since You've Been Gone\", 'Calvary Cross', 'Hash Pipe', 'Thong Song', 'Pyjamarama', \"Rockin' It\", 'Overload', 'Double Dutch Bus', 'Rhinestone Cowboy', 'LFO', 'Between the Bars', 'Even Better Than the Real Thing', \"Everybody's Changing\", 'Waltz for Debby', 'Land: Horses/Land of a Thousand Dances/La Mer (de)', 'Take the Money and Run', \"We Share Our Mother's Health\", \"Push th' Little Daises\", 'Stinkfist', 'Liquidator', 'Emotional Rescue', 'Kathleen', 'Lovertits', 'Bright Lights, Big City', 'I Love the Sound of Breaking Glass', \"Singin' in the Rain\", 'Streets of Philadelphia', 'Hallelujah', 'A Song for Europe', 'When Love Breaks Down', 'Speed of Sound', \"Freedom '90\", \"Sgt. Pepper's Lonely Hearts Club Band\", 'I Pity the Fool', 'Somewhere Only We Know', 'To Hell with Poverty', 'Spin Spin Sugar', \"Don't Tell Me\", '(The Man Who Shot) Liberty Valance', 'Party Hard', 'Return of the Mack', 'Everyday I Write the Book', 'Sorry Somehow', \"It's All About the Benjamins\", 'Daydream Believer', \"I'm Your Puppet\", \"Groovin' High\", 'Take It to the Limit', 'Kanga-Roo', 'Duppy Conqueror', 'Mexican Radio', 'Shiny Happy People', 'Fire', 'Love Minus Zero/No Limit', 'Reunited', 'Brown Paper Bag', 'Get the Message', 'I Love a Man in Uniform', \"It Doesn't Matter Anymore\", 'When You Dance', 'Flamingo', 'Pass the Dutchie', 'Wood Beez (Pray Like Aretha Franklin)', 'What Have I Done to Deserve This', 'Liar, Liar', 'Blessed State', \"Ain't No Half Steppin'\", 'We Are Your Friends', 'Precious', 'La Cienega Just Smiled', \"Love Can't Turn Around\", 'Perfect Skin', \"She Don't Use Jelly\", 'Tin Soldier', 'These Foolish Things', 'And She Was', 'La Grange', 'Whatcha See Is Whatcha Get', 'Sloop John B.', 'Be Quiet and Drive (Far Away)', 'Non-Alignment Pact', 'Das Zelt', 'Hello Goodbye', 'Seven Rooms of Gloom', 'Two Months Off', 'Get the Balance Right', 'Girls Talk', \"Don't Look Back into the Sun\", 'Respect', \"Don't Go\", 'The Logical Song', \"Run's House (What's It All About?)\", 'Islands in the Stream', 'World Leader Pretend', \"I've Got the World on a String\", 'Has It Come to This', 'Hungry Eyes', 'Pretty Persuasion', 'The Ballad of Lucy Jordan', \"Rappin' and Rocking the House\", 'Make the World Go Away', 'Willie the Pimp (Parts I and II)', 'Never Said', 'Into Your Arms', 'Accelerator', 'You Better Move On', 'The Body Rock', 'Do Ya', 'State Trooper', 'Nobody Beats the Biz', \"I'm So Proud\", 'Do the Strand', \"It's My Life\", 'Quiet Life', 'Rock and Roll Part 2', 'Boobs a Lot', 'All Or Nothing', 'Your Ghost', 'Lump', 'Just Out of Reach (Of My Two Empty Arms)', 'I Walk on Guilded Splinters', 'Private Idaho', 'You Sexy Thing', 'Never Leave You (Uh Oooh)', 'The Universal', 'Acperience', 'The Killing Floor', 'Ugly', \"Freakin' Out\", 'Everybody Loves Somebody', 'Batdance', 'Rainy Night in Georgia', 'Sweet Little Angel', 'Artistry in Rhythm', 'Return to Forever', 'Cop Killer', 'People Are People', \"Rockin' All Over the World\", 'Square Biz', 'Scar Tissue', 'Glad All Over', 'Blues Stay Away From Me', 'Punk Rock Girl', 'Instituionalized', 'Take It So Hard', 'Life Is a Highway', 'Spanish Harlem', 'Wreck of The Edmund Fitzgerald', 'Rippin Kittin', 'Interstate Love Song', 'Harper Valley P.T.A.', 'Unsatisfied', \"She's About a Mover\", 'The Number of the Beast', 'Plug-In Baby', \"'T Ain't nobody's Bizness If I Do\", 'Jesus Built My Hot Rod', 'The Diamond Sea', '88 Lines about 44 Women', 'Gee', \"You Ain't Goin' Nowhere\", 'Coffee + TV', 'First We Take Manhattan', \"I'll Try Something New\", 'Sunshine Superman', 'The Boston Rag', 'Exodus', 'The Magnificent Seven', \"Double Shot (Of My Baby's Love)\", 'Round and Round', 'Quiet Village', 'Kiss and Say Goodbye', \"We're Not Gonna Take It\", 'Just Be Good to Me', 'Peter Gunn', 'Voices Carry', 'Mambo #5', \"Hold What You've Got\", 'I Found Out', 'Poor Leno', 'Okie from Muskogee', 'Harvest Moon', 'Cheated Hearts', 'Ooh La La', 'Heartaches by the Number', 'Kiss', 'Alles Nar De KI-te', \"You Don't Miss Your Water\", 'Deacon Blues', 'Mosh', 'Got to Give It Up, Part 1', 'Feel the Pain', 'Friends', 'Drop the Pressure', 'Breaking Up Is Hard to Do', \"Pistol Packin' Mama\", 'City Sickness', 'The Big Country', \"It Ain't Over 'Til It's Over\", 'Beyond the Sea', 'Roscoe', 'Big Poppa', 'Millennium', 'She Wants to Move', 'Never My Love', 'Free Ride', \"It's Over\", 'Blasphemous Rumours', 'Every Little Thing She Does Is Magic', 'See No Evil', \"Why Can't I Be You\", 'The Spirit of Radio', 'Straight Up', \"You Ain't Woman Enough (To Take My Man)\", 'Me No Pop I', 'Undercover of the Night', 'Chewing Gum', 'Catch the Sun', 'Foggy Notion', \"Let's Stick Together\", 'Say No Go', 'Magic Bus', 'Gucci Time', 'Golden Slumbers/Carry That Weight', 'Roll with It', 'Out of Time', \"Let's Get Lost\", \"I Can't Quit You Baby\", \"Don't Say Nuthin'\", 'Run Through the Jungle', 'Still D.R.E.', 'Big Louise', 'Show Me Love', \"Honey Don't\", 'Pretty Flamingo', 'Moulty', 'Every Grain of Sand', 'CC Rider', 'Nearly Lost You', 'Leaving Home', 'Open Your Heart', 'Concrete Schoolyard', 'Walk a Mile in My Shoes', 'Supermassive Black Hole', 'Dirty Old Town', 'Vow', \"Signed, Sealed, Delivered, I'm Yours\", 'Give It Up', 'Digital', 'All or Nothing at All', 'I Only Want to Be with You', 'Back in the U.S.S.R.', 'Gangsta Gangsta', \"Life's Been Good\", 'On', 'Love and Affection', 'School Day', 'The Beautiful People', 'Winter Lady', '2000 Miles', \"Ain't Nothing Like the Real Thing\", 'L.A. Freeway', 'Girls, Girls, Girls', 'The Godfather', 'Super Sharp Shooter', 'Shake a Hand', \"They Can't Take That Away from Me\", 'First I Look at the Purse', 'Betcha By Golly Wow', '(I Wanna) Testify', 'Summer Breeze', 'One of a Kind (Love Affair)', 'C30 C60 C90 Go!', 'Up Where We Belong', 'Someday', 'Writing to Reach You', 'Christine', 'Daytona 500', 'Simon Says', \"It's Kinda Funny\", 'Waters of Nazareth', 'Stay in My Corner', \"Treason (It's Just a Story)\", 'Rock Hard', 'The Bottle', \"Stuck in a Moment You Can't Get Out Of\", 'Three Little Birds', 'Paper Sun', 'The Loved One', \"Can't Stand Losing You\", 'Dancing with Myself', 'Blue Bayou', 'I Want Your (Hands on Me)', 'The Concept', \"You're Gonna Get Yours\", 'Favourite Shirts', \"I Don't Want to Miss a Thing\", \"Da' Butt\", \"I'm Gonna Get Married\", \"Opportunities (Let's Make Lots of Money)\", 'Final Solution', 'Ballroom Blitz', 'Omaha', 'Winter in America', 'What Goes On', 'Ride on Time', 'Vision of Love', 'Visions of China', 'Dissident', 'What You Waiting For?', \"Room 123 (She's Strange)\", \"You're Gorgeous\", 'The Way I Am', 'Paul Revere', 'Endless Sleep', 'Why Does It Always Rain on Me', 'King of Rock', 'Is Vic There?', 'Life in the Fast Lane', 'Part Time Love', 'Music Is My Radar', 'Talk to Me, Talk to Me', \"Can't Get Enough of Your Love, Babe\", 'Signs', 'Runaway Boys', \"Lyin' Eyes\", 'Message of Love', 'Stella', 'Band on the Run', 'The Time Is Now', 'I Can Help', 'Rock Steady', 'Where Have All the Rude Boys Gone?', 'Deep River Blues', \"It Ain't Me Babe\", 'See a Little Light', 'Bellbottoms', 'Battery', 'Baby I Love You', 'ABC', 'Under My Thumb', 'Keep On Running', 'Needle in a Haystack', 'Money Changes Everything', 'Not Fade Away', \"He's Gonna Step on You Again\", 'Tubular Bells', 'Power and the Passion', 'Oh Sherrie', 'Proud Mary', 'The Middle', 'Is This It', 'Blue Boy', 'The Bitch Is Back', 'The House that Jack Built', 'The Revolution Will Not Be Televised', 'The Battle of Evermore', \"Keep on Truckin', Part 1\", 'Who Am I?', 'Miss Lucifer', 'S.F. Sorrow is Born', 'And I Love Her', 'Pilot', 'Made You Look', 'How Can I Love You More?', 'Dance Dance Dance (Yowsah Yowsah Yowsah)', 'Book of Rules', 'Mother of Pearl', 'Dixie Chicken', 'Love Is a Battlefield', 'The Facts of Life', \"Just Like Tom Thumb's Blues\", 'On Fire', 'Long Distance Call', 'My Girl']\n"
     ]
    },
    {
     "data": {
      "text/plain": [
       "3000"
      ]
     },
     "execution_count": 13,
     "metadata": {},
     "output_type": "execute_result"
    }
   ],
   "source": [
    "titles = []\n",
    "\n",
    "for url_name in url_list:\n",
    "    url = url_name\n",
    "    response = requests.get(url)\n",
    "    soup = BeautifulSoup(response.text, 'html.parser')\n",
    "\n",
    "    for i in range(0, 800,4):\n",
    "        \n",
    "        title_element = soup.select(\"tr td a\")[i+1]\n",
    "        \n",
    "        if title_element:\n",
    "            title = title_element.get_text().strip()\n",
    "            titles.append(title)\n",
    "\n",
    "print(titles)\n",
    "len(titles)"
   ]
  },
  {
   "cell_type": "code",
   "execution_count": 14,
   "id": "71f89877",
   "metadata": {},
   "outputs": [
    {
     "data": {
      "text/html": [
       "<div>\n",
       "<style scoped>\n",
       "    .dataframe tbody tr th:only-of-type {\n",
       "        vertical-align: middle;\n",
       "    }\n",
       "\n",
       "    .dataframe tbody tr th {\n",
       "        vertical-align: top;\n",
       "    }\n",
       "\n",
       "    .dataframe thead th {\n",
       "        text-align: right;\n",
       "    }\n",
       "</style>\n",
       "<table border=\"1\" class=\"dataframe\">\n",
       "  <thead>\n",
       "    <tr style=\"text-align: right;\">\n",
       "      <th></th>\n",
       "      <th>artist</th>\n",
       "      <th>title</th>\n",
       "    </tr>\n",
       "  </thead>\n",
       "  <tbody>\n",
       "    <tr>\n",
       "      <th>0</th>\n",
       "      <td>Bob Dylan</td>\n",
       "      <td>Like a Rolling Stone</td>\n",
       "    </tr>\n",
       "    <tr>\n",
       "      <th>1</th>\n",
       "      <td>The Rolling Stones</td>\n",
       "      <td>(I Can't Get No) Satisfaction</td>\n",
       "    </tr>\n",
       "    <tr>\n",
       "      <th>2</th>\n",
       "      <td>The Beach Boys</td>\n",
       "      <td>Good Vibrations</td>\n",
       "    </tr>\n",
       "    <tr>\n",
       "      <th>3</th>\n",
       "      <td>Nirvana</td>\n",
       "      <td>Smells Like Teen Spirit</td>\n",
       "    </tr>\n",
       "    <tr>\n",
       "      <th>4</th>\n",
       "      <td>Aretha Franklin</td>\n",
       "      <td>Respect</td>\n",
       "    </tr>\n",
       "    <tr>\n",
       "      <th>...</th>\n",
       "      <td>...</td>\n",
       "      <td>...</td>\n",
       "    </tr>\n",
       "    <tr>\n",
       "      <th>2995</th>\n",
       "      <td>Black Box Recorder</td>\n",
       "      <td>The Facts of Life</td>\n",
       "    </tr>\n",
       "    <tr>\n",
       "      <th>2996</th>\n",
       "      <td>Bob Dylan</td>\n",
       "      <td>Just Like Tom Thumb's Blues</td>\n",
       "    </tr>\n",
       "    <tr>\n",
       "      <th>2997</th>\n",
       "      <td>Sebadoh</td>\n",
       "      <td>On Fire</td>\n",
       "    </tr>\n",
       "    <tr>\n",
       "      <th>2998</th>\n",
       "      <td>Phoenix</td>\n",
       "      <td>Long Distance Call</td>\n",
       "    </tr>\n",
       "    <tr>\n",
       "      <th>2999</th>\n",
       "      <td>Otis Redding</td>\n",
       "      <td>My Girl</td>\n",
       "    </tr>\n",
       "  </tbody>\n",
       "</table>\n",
       "<p>3000 rows × 2 columns</p>\n",
       "</div>"
      ],
      "text/plain": [
       "                  artist                          title\n",
       "0              Bob Dylan           Like a Rolling Stone\n",
       "1     The Rolling Stones  (I Can't Get No) Satisfaction\n",
       "2         The Beach Boys                Good Vibrations\n",
       "3                Nirvana        Smells Like Teen Spirit\n",
       "4        Aretha Franklin                        Respect\n",
       "...                  ...                            ...\n",
       "2995  Black Box Recorder              The Facts of Life\n",
       "2996           Bob Dylan    Just Like Tom Thumb's Blues\n",
       "2997             Sebadoh                        On Fire\n",
       "2998             Phoenix             Long Distance Call\n",
       "2999        Otis Redding                        My Girl\n",
       "\n",
       "[3000 rows x 2 columns]"
      ]
     },
     "execution_count": 14,
     "metadata": {},
     "output_type": "execute_result"
    }
   ],
   "source": [
    "df = pd.DataFrame({'artist': artists, 'title': titles})\n",
    "df"
   ]
  },
  {
   "cell_type": "code",
   "execution_count": null,
   "id": "bf84f9c9",
   "metadata": {},
   "outputs": [],
   "source": [
    "# I won't save it because the above is already in my files "
   ]
  }
 ],
 "metadata": {
  "kernelspec": {
   "display_name": "Python 3 (ipykernel)",
   "language": "python",
   "name": "python3"
  },
  "language_info": {
   "codemirror_mode": {
    "name": "ipython",
    "version": 3
   },
   "file_extension": ".py",
   "mimetype": "text/x-python",
   "name": "python",
   "nbconvert_exporter": "python",
   "pygments_lexer": "ipython3",
   "version": "3.11.5"
  }
 },
 "nbformat": 4,
 "nbformat_minor": 5
}
