{
 "cells": [
  {
   "cell_type": "code",
   "execution_count": 1,
   "id": "c20f280e",
   "metadata": {},
   "outputs": [],
   "source": [
    "import pandas as pd\n",
    "import numpy as np"
   ]
  },
  {
   "cell_type": "code",
   "execution_count": 2,
   "id": "463ea2d5",
   "metadata": {},
   "outputs": [],
   "source": [
    "not_hot = pd.read_csv('not_hot.csv')"
   ]
  },
  {
   "cell_type": "code",
   "execution_count": 3,
   "id": "9344b2b4",
   "metadata": {},
   "outputs": [],
   "source": [
    "hot_songs = pd.read_csv('~/Desktop/data_analytics/Week_6/Day_1/Morning/lab-web-scraping-single-page/hot_songs.csv')"
   ]
  },
  {
   "cell_type": "code",
   "execution_count": 4,
   "id": "e070b200",
   "metadata": {},
   "outputs": [],
   "source": [
    "hot_songs.drop(columns = 'Unnamed: 0', inplace = True)"
   ]
  },
  {
   "cell_type": "code",
   "execution_count": 5,
   "id": "43e571fe",
   "metadata": {},
   "outputs": [],
   "source": [
    "hot_songs.columns = hot_songs.columns.str.lower()"
   ]
  },
  {
   "cell_type": "code",
   "execution_count": 6,
   "id": "fe7914b9",
   "metadata": {},
   "outputs": [
    {
     "data": {
      "text/html": [
       "<div>\n",
       "<style scoped>\n",
       "    .dataframe tbody tr th:only-of-type {\n",
       "        vertical-align: middle;\n",
       "    }\n",
       "\n",
       "    .dataframe tbody tr th {\n",
       "        vertical-align: top;\n",
       "    }\n",
       "\n",
       "    .dataframe thead th {\n",
       "        text-align: right;\n",
       "    }\n",
       "</style>\n",
       "<table border=\"1\" class=\"dataframe\">\n",
       "  <thead>\n",
       "    <tr style=\"text-align: right;\">\n",
       "      <th></th>\n",
       "      <th>title</th>\n",
       "      <th>artist</th>\n",
       "    </tr>\n",
       "  </thead>\n",
       "  <tbody>\n",
       "    <tr>\n",
       "      <th>0</th>\n",
       "      <td>Rockin' Around The Christmas Tree</td>\n",
       "      <td>Brenda Lee</td>\n",
       "    </tr>\n",
       "    <tr>\n",
       "      <th>1</th>\n",
       "      <td>All I Want For Christmas Is You</td>\n",
       "      <td>Mariah Carey</td>\n",
       "    </tr>\n",
       "    <tr>\n",
       "      <th>2</th>\n",
       "      <td>Jingle Bell Rock</td>\n",
       "      <td>Bobby Helms</td>\n",
       "    </tr>\n",
       "    <tr>\n",
       "      <th>3</th>\n",
       "      <td>Last Christmas</td>\n",
       "      <td>Wham!</td>\n",
       "    </tr>\n",
       "    <tr>\n",
       "      <th>4</th>\n",
       "      <td>A Holly Jolly Christmas</td>\n",
       "      <td>Burl Ives</td>\n",
       "    </tr>\n",
       "  </tbody>\n",
       "</table>\n",
       "</div>"
      ],
      "text/plain": [
       "                               title        artist\n",
       "0  Rockin' Around The Christmas Tree    Brenda Lee\n",
       "1    All I Want For Christmas Is You  Mariah Carey\n",
       "2                   Jingle Bell Rock   Bobby Helms\n",
       "3                     Last Christmas         Wham!\n",
       "4            A Holly Jolly Christmas     Burl Ives"
      ]
     },
     "execution_count": 6,
     "metadata": {},
     "output_type": "execute_result"
    }
   ],
   "source": [
    "hot_songs.head()"
   ]
  },
  {
   "cell_type": "code",
   "execution_count": 7,
   "id": "7587c1ff",
   "metadata": {},
   "outputs": [],
   "source": [
    "not_hot.drop(columns = 'Unnamed: 0', inplace = True)"
   ]
  },
  {
   "cell_type": "code",
   "execution_count": 8,
   "id": "a0bc935b",
   "metadata": {},
   "outputs": [
    {
     "data": {
      "text/html": [
       "<div>\n",
       "<style scoped>\n",
       "    .dataframe tbody tr th:only-of-type {\n",
       "        vertical-align: middle;\n",
       "    }\n",
       "\n",
       "    .dataframe tbody tr th {\n",
       "        vertical-align: top;\n",
       "    }\n",
       "\n",
       "    .dataframe thead th {\n",
       "        text-align: right;\n",
       "    }\n",
       "</style>\n",
       "<table border=\"1\" class=\"dataframe\">\n",
       "  <thead>\n",
       "    <tr style=\"text-align: right;\">\n",
       "      <th></th>\n",
       "      <th>artist</th>\n",
       "      <th>title</th>\n",
       "    </tr>\n",
       "  </thead>\n",
       "  <tbody>\n",
       "    <tr>\n",
       "      <th>0</th>\n",
       "      <td>Bob Dylan</td>\n",
       "      <td>Like a Rolling Stone</td>\n",
       "    </tr>\n",
       "    <tr>\n",
       "      <th>1</th>\n",
       "      <td>The Rolling Stones</td>\n",
       "      <td>(I Can't Get No) Satisfaction</td>\n",
       "    </tr>\n",
       "    <tr>\n",
       "      <th>2</th>\n",
       "      <td>The Beach Boys</td>\n",
       "      <td>Good Vibrations</td>\n",
       "    </tr>\n",
       "    <tr>\n",
       "      <th>3</th>\n",
       "      <td>Nirvana</td>\n",
       "      <td>Smells Like Teen Spirit</td>\n",
       "    </tr>\n",
       "    <tr>\n",
       "      <th>4</th>\n",
       "      <td>Aretha Franklin</td>\n",
       "      <td>Respect</td>\n",
       "    </tr>\n",
       "  </tbody>\n",
       "</table>\n",
       "</div>"
      ],
      "text/plain": [
       "               artist                          title\n",
       "0           Bob Dylan           Like a Rolling Stone\n",
       "1  The Rolling Stones  (I Can't Get No) Satisfaction\n",
       "2      The Beach Boys                Good Vibrations\n",
       "3             Nirvana        Smells Like Teen Spirit\n",
       "4     Aretha Franklin                        Respect"
      ]
     },
     "execution_count": 8,
     "metadata": {},
     "output_type": "execute_result"
    }
   ],
   "source": [
    "not_hot.head()"
   ]
  },
  {
   "cell_type": "code",
   "execution_count": 9,
   "id": "50344087",
   "metadata": {},
   "outputs": [
    {
     "data": {
      "text/plain": [
       "(3000, 2)"
      ]
     },
     "execution_count": 9,
     "metadata": {},
     "output_type": "execute_result"
    }
   ],
   "source": [
    "not_hot.shape"
   ]
  },
  {
   "cell_type": "code",
   "execution_count": 10,
   "id": "afc8fd50",
   "metadata": {},
   "outputs": [
    {
     "name": "stdout",
     "output_type": "stream",
     "text": [
      "Matching rows found:\n",
      "                               title        artist\n",
      "0  Christmas (Baby Please Come Home)  Darlene Love\n"
     ]
    }
   ],
   "source": [
    "merged_df = pd.merge(hot_songs, not_hot, on = ['artist', 'title'], how = 'inner')\n",
    "\n",
    "if not merged_df.empty:\n",
    "    print(\"Matching rows found:\")\n",
    "    print(merged_df)\n",
    "else:\n",
    "    print(\"No matching rows found.\")"
   ]
  },
  {
   "cell_type": "code",
   "execution_count": 11,
   "id": "3068b554",
   "metadata": {},
   "outputs": [],
   "source": [
    "not_hot = not_hot[(not_hot['title'] != 'Christmas (Baby Please Come Home)') & (not_hot['artist'] != 'Darlene Love')]"
   ]
  },
  {
   "cell_type": "code",
   "execution_count": 12,
   "id": "60d49c70",
   "metadata": {},
   "outputs": [
    {
     "data": {
      "text/plain": [
       "(2998, 2)"
      ]
     },
     "execution_count": 12,
     "metadata": {},
     "output_type": "execute_result"
    }
   ],
   "source": [
    "not_hot.shape"
   ]
  },
  {
   "cell_type": "code",
   "execution_count": 13,
   "id": "1a09600c",
   "metadata": {},
   "outputs": [],
   "source": [
    "not_hot.to_csv('not_hot_v2.csv')"
   ]
  },
  {
   "cell_type": "code",
   "execution_count": null,
   "id": "b66dd088",
   "metadata": {},
   "outputs": [],
   "source": []
  }
 ],
 "metadata": {
  "kernelspec": {
   "display_name": "Python 3 (ipykernel)",
   "language": "python",
   "name": "python3"
  },
  "language_info": {
   "codemirror_mode": {
    "name": "ipython",
    "version": 3
   },
   "file_extension": ".py",
   "mimetype": "text/x-python",
   "name": "python",
   "nbconvert_exporter": "python",
   "pygments_lexer": "ipython3",
   "version": "3.11.5"
  }
 },
 "nbformat": 4,
 "nbformat_minor": 5
}
